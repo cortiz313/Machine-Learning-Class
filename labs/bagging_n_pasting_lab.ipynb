{
  "cells": [
    {
      "cell_type": "markdown",
      "metadata": {
        "id": "view-in-github",
        "colab_type": "text"
      },
      "source": [
        "<a href=\"https://colab.research.google.com/github/cortiz313/Machine-Learning-Class/blob/main/labs/bagging_n_pasting_lab.ipynb\" target=\"_parent\"><img src=\"https://colab.research.google.com/assets/colab-badge.svg\" alt=\"Open In Colab\"/></a>"
      ]
    },
    {
      "cell_type": "markdown",
      "metadata": {
        "id": "cZzv73_UWb6N"
      },
      "source": [
        "# Bagging and Pasting\n",
        "\n",
        "#### Part of the [Inquiryum Machine Learning Fundamentals Course](http://inquiryum.com/machine-learning/)\n",
        "\n",
        "![](https://raw.githubusercontent.com/zacharski/datamining-guide/master/labs/pics/divider.png)\n",
        "\n",
        "![](https://raw.githubusercontent.com/zacharski/ml-class/master/labs/pics/bagging..png)\n",
        "\n",
        "\n",
        "Now we are about to embark on our journey from simple decision trees to algorithms that use decision trees as components. The path goes like this:\n",
        "\n",
        "\n",
        "![](https://raw.githubusercontent.com/zacharski/ml-class/master/labs/pics/dbxg.png)\n",
        "\n",
        "The use of decision trees began in the 1980s and XGBoost was introduced in 2016. Throughout the next few notebooks we will explore this progression of algorithms.  \n",
        "\n",
        "### A collective of classifiers\n",
        "\n",
        "To gain an intuition on how this works, let's look at how our confidence might increase when more people tell us something. Whether it is multiple doctors giving us the same diagnosis or something as simple as ...\n",
        "\n",
        "#### The Mary Spender example\n",
        "\n",
        "Let's say one of your friends mentions over lunch that you would love a particular musical artist on YouTube, say Mary Spender, who you never heard before. \n",
        "\n",
        "![](https://raw.githubusercontent.com/zacharski/ml-class/master/labs/pics/MarySpender2.png)\n",
        "\n",
        "What is the chance that you will actually like Mary Spender's music? Maybe slighly better than chance? Let's say you think there is a 60% chance you will like her. You will file away the recommendation but you are not going to rush home and watch a YouTube video.  Now, in addition to the lunch friend's recommendation,  an old music school friend, now living in Austin messages you saying you should check out Mary Spender and the friend predicts you will absolutely love her. Then a week later, while talking with an old bandmate over the phone, that bandmate, again, recommends Mary Spender. Over the course of less than 10 days, three of your friends independently (because they don't know one another) recommend Mary Spender. Now what is the likelihood of you liking Mary Spender? I am guessing you think that now it is higher than 60%. Maybe now you think it is 90% likely you will like her. It is the aggregate of these 3 people's opinions (3 classifiers) that ups the accuracy of the prediction.\n",
        "\n",
        "![](https://raw.githubusercontent.com/zacharski/ml-class/master/labs/pics/spender22.png)\n",
        "\n",
        "\n",
        "This is similar to how bagging works. One aggregates the votes of a number of classifiers and the vote of that ensemble of classifiers is more accurate than that of a single classifier. Even if the accuracy of each component classifier is low (known as a weak classifier), the ensemble can be a strong (high accuracy) classifier. Of course there are some caveats. \n",
        "\n",
        "Back to the Mary Spender example. Suppose one of your friends went to a Mary Spender concert and then later in the week met with four other of your friends and mentioned that she thought you would love Mary Spender's music. Then, over the course of a week all those friends recommended Mary Spender to you. In this case the recommendations are not that independent---all are based on one person's opinion. Thus, the accuracy would not be as great as in the example above. Similarly, if you made 10 copies of the exact same classifier each trained on exactly the same data, the accuracy of the ensemble of clones would not be any better than the accuracy of a single copy. Moving away from Mary Spender and our musical tastes and back to machine learning, we can try to create independence among the classifier in 2 ways:\n",
        "\n",
        "1. We can change the type of classifier. For example, we can use a k-Nearest Neighbor Classifier with Manhattan distance and a k of 5, a k-Nearest Neighbor Classifier with Euclidean distance and a k of 3, a decision tree classifier using entropy and a max depth of 5, and a decision tree classifier with using gini and no max depth specified. Hopefully, the accuracy of the ensemble of the four classifiers would be greater than that of a single classifier.\n",
        "2. We can have an ensemble of the same classifier (for example, 10 decision tree classifiers with identical hyperparameters) but each classifier can get a different subset of the training data. The classifiers would thus build different models (differents 'rules') and, again, the accuracy of the ensemble should be greather than that of a single classifier. This is the approach we will take.\n",
        "\n",
        "### Bagging and Pasting\n",
        "\n",
        "\n",
        "In this Jupyter notebook, we are going to explore Bagging algorithms. Bagging algorithms come in a variety of 'flavors' including one called 'bagging' and one called 'pasting'.\n",
        "\n",
        "But first an experiment on the what *with replacement* means. As you will see shortly, that term is the crucial difference between bagging and pasting.\n",
        "\n",
        "### A small experiment\n",
        "NOTE: The following code is just used for illustration and is nothing we will be using for machine learning. \n",
        "\n",
        "Consider a list of 5 red balls and 5 blue balls:"
      ]
    },
    {
      "cell_type": "code",
      "execution_count": 2,
      "metadata": {
        "id": "xkhfXZatWb6S"
      },
      "outputs": [],
      "source": [
        "bag = ['red', 'red', 'red', 'red', 'red',\n",
        "       'blue', 'blue', 'blue', 'blue', 'blue']"
      ]
    },
    {
      "cell_type": "markdown",
      "metadata": {
        "id": "ugElXnm3Wb6T"
      },
      "source": [
        "Suppose we want to pick 7 random balls from this list. Python offers two functions that will give us random elements from a list.One is called `choices` which selects a sample with replacement, which means that once a ball is selected it is put back in the bag so it has the potential to be selected again. Let's give it a try, and just because things are random let's do this 100 times:"
      ]
    },
    {
      "cell_type": "code",
      "execution_count": 3,
      "metadata": {
        "id": "u6f_BpdyWb6T",
        "colab": {
          "base_uri": "https://localhost:8080/"
        },
        "outputId": "effd24bb-61e6-49d2-a403-57d06ef520c2"
      },
      "outputs": [
        {
          "output_type": "stream",
          "name": "stdout",
          "text": [
            "1 blue and 6 red\n",
            "1 blue and 6 red\n",
            "6 blue and 1 red\n",
            "7 blue and 0 red\n",
            "1 blue and 6 red\n",
            "7 blue and 0 red\n",
            "1 blue and 6 red\n",
            "1 blue and 6 red\n",
            "1 blue and 6 red\n",
            "6 blue and 1 red\n",
            "1 blue and 6 red\n",
            "6 blue and 1 red\n",
            "6 blue and 1 red\n",
            "6 blue and 1 red\n",
            "Balls selected exceeded balls in bag: 14\n"
          ]
        }
      ],
      "source": [
        "import random\n",
        "total = 0\n",
        "for i in range(100):\n",
        "    set = random.choices(bag, k=7)\n",
        "    blue = set.count('blue')\n",
        "    red = set.count('red')\n",
        "    if blue > 5 or red > 5:\n",
        "        print(\"%i blue and %i red\" % (set.count('blue'), set.count('red')))\n",
        "        total +=1\n",
        "print(\"Balls selected exceeded balls in bag: %i\" % (total))"
      ]
    },
    {
      "cell_type": "markdown",
      "metadata": {
        "id": "IxWdBvoGWb6U"
      },
      "source": [
        "*A reminder: please don't mindlessly execute the code. Look at it and understand it*\n",
        "\n",
        "There are five blue balls. Since we are doing the selection with replacement there are times when we select more than 5 blue balls (or five red ones).  \n",
        "\n",
        "When we print\n",
        "\n",
        "```\n",
        "Balls selected exceeded balls in bag: 13\n",
        "```\n",
        "\n",
        "it shows how many times that was the case.\n",
        "\n",
        "\n",
        "When I ran this, 14 times out of 100 had more of one color ball than there were in the original bag. In fact, several times I ended up with all 7 of the balls blue, even though the original list had only 5 balls:\n",
        "\n",
        "```\n",
        "7 blue and 0 red\n",
        "6 blue and 1 red\n",
        "7 blue and 0 red\n",
        "1 blue and 6 red\n",
        "0 blue and 7 red\n",
        "1 blue and 6 red\n",
        "1 blue and 6 red\n",
        "6 blue and 1 red\n",
        "6 blue and 1 red\n",
        "1 blue and 6 red\n",
        "6 blue and 1 red\n",
        "1 blue and 6 red\n",
        "6 blue and 1 red\n",
        "6 blue and 1 red\n",
        "Balls selected exceeded balls in bag: 14\n",
        "```\n",
        "Again, this is called selecting with replacement (we put what we selected back in the set before selecting again). \n",
        "\n",
        "The other alternative is to select without replacement--once we select something we can't select it again. Python's `sample` does this:\n"
      ]
    },
    {
      "cell_type": "code",
      "execution_count": 4,
      "metadata": {
        "id": "wjTz87jbWb6U",
        "colab": {
          "base_uri": "https://localhost:8080/"
        },
        "outputId": "7d05a634-2a3b-48a2-cc04-56490fe0c697"
      },
      "outputs": [
        {
          "output_type": "stream",
          "name": "stdout",
          "text": [
            "Balls selected exceeded balls in bag: 0\n"
          ]
        }
      ],
      "source": [
        "import random\n",
        "total = 0\n",
        "for i in range(1000):\n",
        "    set = random.sample(bag, k=7)\n",
        "    blue = set.count('blue')\n",
        "    red = set.count('red')\n",
        "    if blue > 5 or red > 5:\n",
        "        print(\"%i blue and %i red\" % (set.count('blue'), set.count('red')))\n",
        "        total +=1\n",
        "print(\"Balls selected exceeded balls in bag: %i\" % (total))"
      ]
    },
    {
      "cell_type": "markdown",
      "metadata": {
        "id": "N-RBRpyMWb6U"
      },
      "source": [
        "As you can see, the number of a specific colored ball that we select never exceeded the number of balls of that color in the original set.\n",
        "\n",
        "Now back to bagging and pasting. In both approaches we are going to sample the training data. Let's say we want 70% of the training data in our sample. In bagging ([Breiman, 1996](https://link.springer.com/content/pdf/10.1007/BF00058655.pdf)), if we our training dataset is 1000 instances and we want 70% for a particular classifier, the algorithm will randomly select 700 out of the 1,000 **with replacement**. With pasting ([Breiman, 1998](https://link.springer.com/article/10.1023/A:1007563306331)), the selection is done **without replacement**. \n",
        "\n",
        "#### but wait, there is more ...\n",
        "\n",
        "There are two other options. Instead of selecting a random subset of training data instances, we can select a random subset of columns (features). Let's say we have a dataset of 1,000 instances each with 100 features. When we select a random subset of columns, we still have 1,000 instances but now they have just a subset of the features. This is called Random Subspaces ([Ho, 1998](https://pdfs.semanticscholar.org/b41d/0fa5fdaadd47fc882d3db04277d03fb21832.pdf?_ga=2.196949164.1638238666.1596910000-1073138517.1596910000)).\n",
        "\n",
        "Finally, we can train a classifier on both random subsets of instances and random subsets of features. This is known as Random Patches ([Louppe and Geurts, 2012](https://www.researchgate.net/publication/262212941_Ensembles_on_Random_Patches))\n",
        "\n",
        "In summary, the four methods are:\n",
        "\n",
        "* **bagging** - select a subset of data set instances using replacement\n",
        "* **pasting** - select a subset of data set instances without replacement\n",
        "* **Random Subspaces** - select a subset of features\n",
        "* **Random Patches** - select both a subset of features and of instances\n",
        "\n",
        "Let's see how this works!\n",
        "\n",
        "First, let's grab the Wisconsin Cancer data we used before:\n",
        "\n",
        "#### Wisconsin Cancer Dataset\n",
        "![](https://raw.githubusercontent.com/zacharski/ml-class/master/labs/pics/aimam.png)\n",
        "image from Nvidia's [AI Improves Breast Cancer Diagnoses by Factoring Out False Positives](https://blogs.nvidia.com/blog/2018/02/01/making-mammography-more-meaningful/)\n",
        "\n",
        "[A description of the Cancer Database](#Breast-Cancer-Database)\n",
        "\n",
        "In this dataset we are trying to predict the diagnosis---either M (malignant) or B (benign).\n",
        "\n",
        "Let's load the dataset and split it into training and testing sets"
      ]
    },
    {
      "cell_type": "code",
      "execution_count": 5,
      "metadata": {
        "id": "WMWJytA6Wb6W",
        "colab": {
          "base_uri": "https://localhost:8080/",
          "height": 519
        },
        "outputId": "b1ef9542-763e-4669-b44c-282ff4a1629d"
      },
      "outputs": [
        {
          "output_type": "execute_result",
          "data": {
            "text/plain": [
              "         diagnosis  radiusAvg  textureAvg  perimeterAvg  areaAvg  \\\n",
              "id                                                                 \n",
              "907145           B      9.742       19.12         61.93    289.7   \n",
              "85713702         B      8.196       16.84         51.71    201.9   \n",
              "916838           M     19.890       20.26        130.50   1214.0   \n",
              "879804           B      9.876       17.27         62.92    295.4   \n",
              "897132           B     11.220       19.86         71.94    387.3   \n",
              "...            ...        ...         ...           ...      ...   \n",
              "908916           B     12.870       19.54         82.67    509.2   \n",
              "8910996          B      9.742       15.67         61.50    289.9   \n",
              "90745            B     10.800       21.98         68.79    359.9   \n",
              "857793           M     14.710       21.59         95.55    656.9   \n",
              "88119002         M     19.530       32.47        128.00   1223.0   \n",
              "\n",
              "          smoothnessAvg  compactnessAvg  concavityAvg  concavityPointsAvg  \\\n",
              "id                                                                          \n",
              "907145          0.10750         0.08333      0.008934            0.019670   \n",
              "85713702        0.08600         0.05943      0.015880            0.005917   \n",
              "916838          0.10370         0.13100      0.141100            0.094310   \n",
              "879804          0.10890         0.07232      0.017560            0.019520   \n",
              "897132          0.10540         0.06779      0.005006            0.007583   \n",
              "...                 ...             ...           ...                 ...   \n",
              "908916          0.09136         0.07883      0.017970            0.020900   \n",
              "8910996         0.09037         0.04689      0.011030            0.014070   \n",
              "90745           0.08801         0.05743      0.036140            0.014040   \n",
              "857793          0.11370         0.13650      0.129300            0.081230   \n",
              "88119002        0.08420         0.11300      0.114500            0.066370   \n",
              "\n",
              "          symmetryAvg  ...  radiusWorst  textureWorst  perimeterWorst  \\\n",
              "id                     ...                                              \n",
              "907145         0.2538  ...       11.210         23.17           71.79   \n",
              "85713702       0.1769  ...        8.964         21.96           57.26   \n",
              "916838         0.1802  ...       23.730         25.23          160.50   \n",
              "879804         0.1934  ...       10.420         23.22           67.08   \n",
              "897132         0.1940  ...       11.980         25.78           76.91   \n",
              "...               ...  ...          ...           ...             ...   \n",
              "908916         0.1861  ...       14.450         24.38           95.14   \n",
              "8910996        0.2081  ...       10.750         20.88           68.09   \n",
              "90745          0.2016  ...       12.760         32.04           83.69   \n",
              "857793         0.2027  ...       17.870         30.70          115.70   \n",
              "88119002       0.1428  ...       27.900         45.41          180.20   \n",
              "\n",
              "          areaWorst  smoothnessWorst  compactnessWorst  concavityWorst  \\\n",
              "id                                                                       \n",
              "907145        380.9           0.1398           0.13520         0.02085   \n",
              "85713702      242.2           0.1297           0.13570         0.06880   \n",
              "916838       1646.0           0.1417           0.33090         0.41850   \n",
              "879804        331.6           0.1415           0.12470         0.06213   \n",
              "897132        436.1           0.1424           0.09669         0.01335   \n",
              "...             ...              ...               ...             ...   \n",
              "908916        626.9           0.1214           0.16520         0.07127   \n",
              "8910996       355.2           0.1467           0.09370         0.04043   \n",
              "90745         489.5           0.1303           0.16960         0.19270   \n",
              "857793        985.5           0.1368           0.42900         0.35870   \n",
              "88119002     2477.0           0.1408           0.40970         0.39950   \n",
              "\n",
              "          concavityPointsWorst  symmetryWorst>  FractalDimensionWorst  \n",
              "id                                                                     \n",
              "907145                 0.04589          0.3196                0.08009  \n",
              "85713702               0.02564          0.3105                0.07409  \n",
              "916838                 0.16130          0.2549                0.09136  \n",
              "879804                 0.05588          0.2989                0.07380  \n",
              "897132                 0.02022          0.3292                0.06522  \n",
              "...                        ...             ...                    ...  \n",
              "908916                 0.06384          0.3313                0.07735  \n",
              "8910996                0.05159          0.2841                0.08175  \n",
              "90745                  0.07485          0.2965                0.07662  \n",
              "857793                 0.18340          0.3698                0.10940  \n",
              "88119002               0.16250          0.2713                0.07568  \n",
              "\n",
              "[114 rows x 31 columns]"
            ],
            "text/html": [
              "\n",
              "  <div id=\"df-684314e7-e67d-4770-b7f1-283ac118bd11\">\n",
              "    <div class=\"colab-df-container\">\n",
              "      <div>\n",
              "<style scoped>\n",
              "    .dataframe tbody tr th:only-of-type {\n",
              "        vertical-align: middle;\n",
              "    }\n",
              "\n",
              "    .dataframe tbody tr th {\n",
              "        vertical-align: top;\n",
              "    }\n",
              "\n",
              "    .dataframe thead th {\n",
              "        text-align: right;\n",
              "    }\n",
              "</style>\n",
              "<table border=\"1\" class=\"dataframe\">\n",
              "  <thead>\n",
              "    <tr style=\"text-align: right;\">\n",
              "      <th></th>\n",
              "      <th>diagnosis</th>\n",
              "      <th>radiusAvg</th>\n",
              "      <th>textureAvg</th>\n",
              "      <th>perimeterAvg</th>\n",
              "      <th>areaAvg</th>\n",
              "      <th>smoothnessAvg</th>\n",
              "      <th>compactnessAvg</th>\n",
              "      <th>concavityAvg</th>\n",
              "      <th>concavityPointsAvg</th>\n",
              "      <th>symmetryAvg</th>\n",
              "      <th>...</th>\n",
              "      <th>radiusWorst</th>\n",
              "      <th>textureWorst</th>\n",
              "      <th>perimeterWorst</th>\n",
              "      <th>areaWorst</th>\n",
              "      <th>smoothnessWorst</th>\n",
              "      <th>compactnessWorst</th>\n",
              "      <th>concavityWorst</th>\n",
              "      <th>concavityPointsWorst</th>\n",
              "      <th>symmetryWorst&gt;</th>\n",
              "      <th>FractalDimensionWorst</th>\n",
              "    </tr>\n",
              "    <tr>\n",
              "      <th>id</th>\n",
              "      <th></th>\n",
              "      <th></th>\n",
              "      <th></th>\n",
              "      <th></th>\n",
              "      <th></th>\n",
              "      <th></th>\n",
              "      <th></th>\n",
              "      <th></th>\n",
              "      <th></th>\n",
              "      <th></th>\n",
              "      <th></th>\n",
              "      <th></th>\n",
              "      <th></th>\n",
              "      <th></th>\n",
              "      <th></th>\n",
              "      <th></th>\n",
              "      <th></th>\n",
              "      <th></th>\n",
              "      <th></th>\n",
              "      <th></th>\n",
              "      <th></th>\n",
              "    </tr>\n",
              "  </thead>\n",
              "  <tbody>\n",
              "    <tr>\n",
              "      <th>907145</th>\n",
              "      <td>B</td>\n",
              "      <td>9.742</td>\n",
              "      <td>19.12</td>\n",
              "      <td>61.93</td>\n",
              "      <td>289.7</td>\n",
              "      <td>0.10750</td>\n",
              "      <td>0.08333</td>\n",
              "      <td>0.008934</td>\n",
              "      <td>0.019670</td>\n",
              "      <td>0.2538</td>\n",
              "      <td>...</td>\n",
              "      <td>11.210</td>\n",
              "      <td>23.17</td>\n",
              "      <td>71.79</td>\n",
              "      <td>380.9</td>\n",
              "      <td>0.1398</td>\n",
              "      <td>0.13520</td>\n",
              "      <td>0.02085</td>\n",
              "      <td>0.04589</td>\n",
              "      <td>0.3196</td>\n",
              "      <td>0.08009</td>\n",
              "    </tr>\n",
              "    <tr>\n",
              "      <th>85713702</th>\n",
              "      <td>B</td>\n",
              "      <td>8.196</td>\n",
              "      <td>16.84</td>\n",
              "      <td>51.71</td>\n",
              "      <td>201.9</td>\n",
              "      <td>0.08600</td>\n",
              "      <td>0.05943</td>\n",
              "      <td>0.015880</td>\n",
              "      <td>0.005917</td>\n",
              "      <td>0.1769</td>\n",
              "      <td>...</td>\n",
              "      <td>8.964</td>\n",
              "      <td>21.96</td>\n",
              "      <td>57.26</td>\n",
              "      <td>242.2</td>\n",
              "      <td>0.1297</td>\n",
              "      <td>0.13570</td>\n",
              "      <td>0.06880</td>\n",
              "      <td>0.02564</td>\n",
              "      <td>0.3105</td>\n",
              "      <td>0.07409</td>\n",
              "    </tr>\n",
              "    <tr>\n",
              "      <th>916838</th>\n",
              "      <td>M</td>\n",
              "      <td>19.890</td>\n",
              "      <td>20.26</td>\n",
              "      <td>130.50</td>\n",
              "      <td>1214.0</td>\n",
              "      <td>0.10370</td>\n",
              "      <td>0.13100</td>\n",
              "      <td>0.141100</td>\n",
              "      <td>0.094310</td>\n",
              "      <td>0.1802</td>\n",
              "      <td>...</td>\n",
              "      <td>23.730</td>\n",
              "      <td>25.23</td>\n",
              "      <td>160.50</td>\n",
              "      <td>1646.0</td>\n",
              "      <td>0.1417</td>\n",
              "      <td>0.33090</td>\n",
              "      <td>0.41850</td>\n",
              "      <td>0.16130</td>\n",
              "      <td>0.2549</td>\n",
              "      <td>0.09136</td>\n",
              "    </tr>\n",
              "    <tr>\n",
              "      <th>879804</th>\n",
              "      <td>B</td>\n",
              "      <td>9.876</td>\n",
              "      <td>17.27</td>\n",
              "      <td>62.92</td>\n",
              "      <td>295.4</td>\n",
              "      <td>0.10890</td>\n",
              "      <td>0.07232</td>\n",
              "      <td>0.017560</td>\n",
              "      <td>0.019520</td>\n",
              "      <td>0.1934</td>\n",
              "      <td>...</td>\n",
              "      <td>10.420</td>\n",
              "      <td>23.22</td>\n",
              "      <td>67.08</td>\n",
              "      <td>331.6</td>\n",
              "      <td>0.1415</td>\n",
              "      <td>0.12470</td>\n",
              "      <td>0.06213</td>\n",
              "      <td>0.05588</td>\n",
              "      <td>0.2989</td>\n",
              "      <td>0.07380</td>\n",
              "    </tr>\n",
              "    <tr>\n",
              "      <th>897132</th>\n",
              "      <td>B</td>\n",
              "      <td>11.220</td>\n",
              "      <td>19.86</td>\n",
              "      <td>71.94</td>\n",
              "      <td>387.3</td>\n",
              "      <td>0.10540</td>\n",
              "      <td>0.06779</td>\n",
              "      <td>0.005006</td>\n",
              "      <td>0.007583</td>\n",
              "      <td>0.1940</td>\n",
              "      <td>...</td>\n",
              "      <td>11.980</td>\n",
              "      <td>25.78</td>\n",
              "      <td>76.91</td>\n",
              "      <td>436.1</td>\n",
              "      <td>0.1424</td>\n",
              "      <td>0.09669</td>\n",
              "      <td>0.01335</td>\n",
              "      <td>0.02022</td>\n",
              "      <td>0.3292</td>\n",
              "      <td>0.06522</td>\n",
              "    </tr>\n",
              "    <tr>\n",
              "      <th>...</th>\n",
              "      <td>...</td>\n",
              "      <td>...</td>\n",
              "      <td>...</td>\n",
              "      <td>...</td>\n",
              "      <td>...</td>\n",
              "      <td>...</td>\n",
              "      <td>...</td>\n",
              "      <td>...</td>\n",
              "      <td>...</td>\n",
              "      <td>...</td>\n",
              "      <td>...</td>\n",
              "      <td>...</td>\n",
              "      <td>...</td>\n",
              "      <td>...</td>\n",
              "      <td>...</td>\n",
              "      <td>...</td>\n",
              "      <td>...</td>\n",
              "      <td>...</td>\n",
              "      <td>...</td>\n",
              "      <td>...</td>\n",
              "      <td>...</td>\n",
              "    </tr>\n",
              "    <tr>\n",
              "      <th>908916</th>\n",
              "      <td>B</td>\n",
              "      <td>12.870</td>\n",
              "      <td>19.54</td>\n",
              "      <td>82.67</td>\n",
              "      <td>509.2</td>\n",
              "      <td>0.09136</td>\n",
              "      <td>0.07883</td>\n",
              "      <td>0.017970</td>\n",
              "      <td>0.020900</td>\n",
              "      <td>0.1861</td>\n",
              "      <td>...</td>\n",
              "      <td>14.450</td>\n",
              "      <td>24.38</td>\n",
              "      <td>95.14</td>\n",
              "      <td>626.9</td>\n",
              "      <td>0.1214</td>\n",
              "      <td>0.16520</td>\n",
              "      <td>0.07127</td>\n",
              "      <td>0.06384</td>\n",
              "      <td>0.3313</td>\n",
              "      <td>0.07735</td>\n",
              "    </tr>\n",
              "    <tr>\n",
              "      <th>8910996</th>\n",
              "      <td>B</td>\n",
              "      <td>9.742</td>\n",
              "      <td>15.67</td>\n",
              "      <td>61.50</td>\n",
              "      <td>289.9</td>\n",
              "      <td>0.09037</td>\n",
              "      <td>0.04689</td>\n",
              "      <td>0.011030</td>\n",
              "      <td>0.014070</td>\n",
              "      <td>0.2081</td>\n",
              "      <td>...</td>\n",
              "      <td>10.750</td>\n",
              "      <td>20.88</td>\n",
              "      <td>68.09</td>\n",
              "      <td>355.2</td>\n",
              "      <td>0.1467</td>\n",
              "      <td>0.09370</td>\n",
              "      <td>0.04043</td>\n",
              "      <td>0.05159</td>\n",
              "      <td>0.2841</td>\n",
              "      <td>0.08175</td>\n",
              "    </tr>\n",
              "    <tr>\n",
              "      <th>90745</th>\n",
              "      <td>B</td>\n",
              "      <td>10.800</td>\n",
              "      <td>21.98</td>\n",
              "      <td>68.79</td>\n",
              "      <td>359.9</td>\n",
              "      <td>0.08801</td>\n",
              "      <td>0.05743</td>\n",
              "      <td>0.036140</td>\n",
              "      <td>0.014040</td>\n",
              "      <td>0.2016</td>\n",
              "      <td>...</td>\n",
              "      <td>12.760</td>\n",
              "      <td>32.04</td>\n",
              "      <td>83.69</td>\n",
              "      <td>489.5</td>\n",
              "      <td>0.1303</td>\n",
              "      <td>0.16960</td>\n",
              "      <td>0.19270</td>\n",
              "      <td>0.07485</td>\n",
              "      <td>0.2965</td>\n",
              "      <td>0.07662</td>\n",
              "    </tr>\n",
              "    <tr>\n",
              "      <th>857793</th>\n",
              "      <td>M</td>\n",
              "      <td>14.710</td>\n",
              "      <td>21.59</td>\n",
              "      <td>95.55</td>\n",
              "      <td>656.9</td>\n",
              "      <td>0.11370</td>\n",
              "      <td>0.13650</td>\n",
              "      <td>0.129300</td>\n",
              "      <td>0.081230</td>\n",
              "      <td>0.2027</td>\n",
              "      <td>...</td>\n",
              "      <td>17.870</td>\n",
              "      <td>30.70</td>\n",
              "      <td>115.70</td>\n",
              "      <td>985.5</td>\n",
              "      <td>0.1368</td>\n",
              "      <td>0.42900</td>\n",
              "      <td>0.35870</td>\n",
              "      <td>0.18340</td>\n",
              "      <td>0.3698</td>\n",
              "      <td>0.10940</td>\n",
              "    </tr>\n",
              "    <tr>\n",
              "      <th>88119002</th>\n",
              "      <td>M</td>\n",
              "      <td>19.530</td>\n",
              "      <td>32.47</td>\n",
              "      <td>128.00</td>\n",
              "      <td>1223.0</td>\n",
              "      <td>0.08420</td>\n",
              "      <td>0.11300</td>\n",
              "      <td>0.114500</td>\n",
              "      <td>0.066370</td>\n",
              "      <td>0.1428</td>\n",
              "      <td>...</td>\n",
              "      <td>27.900</td>\n",
              "      <td>45.41</td>\n",
              "      <td>180.20</td>\n",
              "      <td>2477.0</td>\n",
              "      <td>0.1408</td>\n",
              "      <td>0.40970</td>\n",
              "      <td>0.39950</td>\n",
              "      <td>0.16250</td>\n",
              "      <td>0.2713</td>\n",
              "      <td>0.07568</td>\n",
              "    </tr>\n",
              "  </tbody>\n",
              "</table>\n",
              "<p>114 rows × 31 columns</p>\n",
              "</div>\n",
              "      <button class=\"colab-df-convert\" onclick=\"convertToInteractive('df-684314e7-e67d-4770-b7f1-283ac118bd11')\"\n",
              "              title=\"Convert this dataframe to an interactive table.\"\n",
              "              style=\"display:none;\">\n",
              "        \n",
              "  <svg xmlns=\"http://www.w3.org/2000/svg\" height=\"24px\"viewBox=\"0 0 24 24\"\n",
              "       width=\"24px\">\n",
              "    <path d=\"M0 0h24v24H0V0z\" fill=\"none\"/>\n",
              "    <path d=\"M18.56 5.44l.94 2.06.94-2.06 2.06-.94-2.06-.94-.94-2.06-.94 2.06-2.06.94zm-11 1L8.5 8.5l.94-2.06 2.06-.94-2.06-.94L8.5 2.5l-.94 2.06-2.06.94zm10 10l.94 2.06.94-2.06 2.06-.94-2.06-.94-.94-2.06-.94 2.06-2.06.94z\"/><path d=\"M17.41 7.96l-1.37-1.37c-.4-.4-.92-.59-1.43-.59-.52 0-1.04.2-1.43.59L10.3 9.45l-7.72 7.72c-.78.78-.78 2.05 0 2.83L4 21.41c.39.39.9.59 1.41.59.51 0 1.02-.2 1.41-.59l7.78-7.78 2.81-2.81c.8-.78.8-2.07 0-2.86zM5.41 20L4 18.59l7.72-7.72 1.47 1.35L5.41 20z\"/>\n",
              "  </svg>\n",
              "      </button>\n",
              "      \n",
              "  <style>\n",
              "    .colab-df-container {\n",
              "      display:flex;\n",
              "      flex-wrap:wrap;\n",
              "      gap: 12px;\n",
              "    }\n",
              "\n",
              "    .colab-df-convert {\n",
              "      background-color: #E8F0FE;\n",
              "      border: none;\n",
              "      border-radius: 50%;\n",
              "      cursor: pointer;\n",
              "      display: none;\n",
              "      fill: #1967D2;\n",
              "      height: 32px;\n",
              "      padding: 0 0 0 0;\n",
              "      width: 32px;\n",
              "    }\n",
              "\n",
              "    .colab-df-convert:hover {\n",
              "      background-color: #E2EBFA;\n",
              "      box-shadow: 0px 1px 2px rgba(60, 64, 67, 0.3), 0px 1px 3px 1px rgba(60, 64, 67, 0.15);\n",
              "      fill: #174EA6;\n",
              "    }\n",
              "\n",
              "    [theme=dark] .colab-df-convert {\n",
              "      background-color: #3B4455;\n",
              "      fill: #D2E3FC;\n",
              "    }\n",
              "\n",
              "    [theme=dark] .colab-df-convert:hover {\n",
              "      background-color: #434B5C;\n",
              "      box-shadow: 0px 1px 3px 1px rgba(0, 0, 0, 0.15);\n",
              "      filter: drop-shadow(0px 1px 2px rgba(0, 0, 0, 0.3));\n",
              "      fill: #FFFFFF;\n",
              "    }\n",
              "  </style>\n",
              "\n",
              "      <script>\n",
              "        const buttonEl =\n",
              "          document.querySelector('#df-684314e7-e67d-4770-b7f1-283ac118bd11 button.colab-df-convert');\n",
              "        buttonEl.style.display =\n",
              "          google.colab.kernel.accessAllowed ? 'block' : 'none';\n",
              "\n",
              "        async function convertToInteractive(key) {\n",
              "          const element = document.querySelector('#df-684314e7-e67d-4770-b7f1-283ac118bd11');\n",
              "          const dataTable =\n",
              "            await google.colab.kernel.invokeFunction('convertToInteractive',\n",
              "                                                     [key], {});\n",
              "          if (!dataTable) return;\n",
              "\n",
              "          const docLinkHtml = 'Like what you see? Visit the ' +\n",
              "            '<a target=\"_blank\" href=https://colab.research.google.com/notebooks/data_table.ipynb>data table notebook</a>'\n",
              "            + ' to learn more about interactive tables.';\n",
              "          element.innerHTML = '';\n",
              "          dataTable['output_type'] = 'display_data';\n",
              "          await google.colab.output.renderOutput(dataTable, element);\n",
              "          const docLink = document.createElement('div');\n",
              "          docLink.innerHTML = docLinkHtml;\n",
              "          element.appendChild(docLink);\n",
              "        }\n",
              "      </script>\n",
              "    </div>\n",
              "  </div>\n",
              "  "
            ]
          },
          "metadata": {},
          "execution_count": 5
        }
      ],
      "source": [
        "import pandas as pd\n",
        "from sklearn.model_selection import train_test_split\n",
        "from sklearn.metrics import accuracy_score\n",
        "\n",
        "colNames = ['id', 'diagnosis', 'radiusAvg', 'textureAvg', 'perimeterAvg', 'areaAvg',\n",
        "            'smoothnessAvg', 'compactnessAvg', 'concavityAvg', 'concavityPointsAvg',\n",
        "            'symmetryAvg', 'FractalDimensionAvg', 'radiusSE', 'textureSE', 'perimeterSE',\n",
        "            'areaSE','smoothnessSE', 'compactnessSE', 'concavitySE', 'concavityPointsSE',\n",
        "            'symmetrySE', 'FractalDimensionSE', 'radiusWorst', 'textureWorst', 'perimeterWorst',\n",
        "            'areaWorst', 'smoothnessWorst', 'compactnessWorst', 'concavityWorst', 'concavityPointsWorst',\n",
        "            'symmetryWorst>', 'FractalDimensionWorst']\n",
        "len(colNames)\n",
        "\n",
        "data = pd.read_csv('https://raw.githubusercontent.com/zacharski/ml-class/master/data/wdbc.data', names=colNames)\n",
        "data.set_index('id', inplace=True)\n",
        "\n",
        "trainingdata, testdata = train_test_split(data, test_size = 0.2)\n",
        "testdata"
      ]
    },
    {
      "cell_type": "markdown",
      "metadata": {
        "id": "TEQMMnQEWb6b"
      },
      "source": [
        "Now divide up the data into the features and labels"
      ]
    },
    {
      "cell_type": "code",
      "execution_count": 6,
      "metadata": {
        "id": "BUFu_lp1Wb6b"
      },
      "outputs": [],
      "source": [
        "colNames.remove('id')\n",
        "colNames.remove('diagnosis')\n",
        "trainingDataFeatures = trainingdata[colNames]\n",
        "testDataFeatures = testdata[colNames]\n",
        "trainingDataLabels = trainingdata['diagnosis']\n",
        "testDataLabels = testdata['diagnosis']\n"
      ]
    },
    {
      "cell_type": "markdown",
      "metadata": {
        "id": "9jwhHLytWb6c"
      },
      "source": [
        "Let's get a base accuracy using a single decision tree classifier:"
      ]
    },
    {
      "cell_type": "code",
      "execution_count": 8,
      "metadata": {
        "id": "0451MpM0Wb6d",
        "colab": {
          "base_uri": "https://localhost:8080/"
        },
        "outputId": "7be9926e-40fa-4a9d-a4f0-f9894b867fa2"
      },
      "outputs": [
        {
          "output_type": "execute_result",
          "data": {
            "text/plain": [
              "0.9035087719298246"
            ]
          },
          "metadata": {},
          "execution_count": 8
        }
      ],
      "source": [
        "from sklearn import tree\n",
        "clf = tree.DecisionTreeClassifier(criterion='entropy')\n",
        "clf.fit(trainingDataFeatures, trainingDataLabels)\n",
        "predictions = clf.predict(testDataFeatures)\n",
        "\n",
        "accuracy_score(testDataLabels, predictions)"
      ]
    },
    {
      "cell_type": "markdown",
      "metadata": {
        "id": "asjigQIyWb6d"
      },
      "source": [
        "Now we will see if we can improve on that accuracy.\n",
        "\n",
        "### Building a bagging classifier\n",
        "\n",
        "Let's build a collective of 20 decision tree classifiers (`n_estimators`). Let's train each one with 100 random samples from our dataset (`max_samples`) with replacement (`bootstrap=True`). `n_jobs` means how many jobs to run in parallel. `n_jobs=-1` means use all available CPU cores.   \n",
        "\n",
        "Just to reinforce the vocabulary we are learning, `n_estimators`, `max_samples`, `bootstrap` are among the **hyperparameters** of the bagging classifier."
      ]
    },
    {
      "cell_type": "code",
      "execution_count": 9,
      "metadata": {
        "id": "tL_K6UxpWb6d",
        "colab": {
          "base_uri": "https://localhost:8080/"
        },
        "outputId": "ad2fd7ef-d4a5-445f-e9bf-3466c185f6bd"
      },
      "outputs": [
        {
          "output_type": "execute_result",
          "data": {
            "text/plain": [
              "0.956140350877193"
            ]
          },
          "metadata": {},
          "execution_count": 9
        }
      ],
      "source": [
        "from sklearn.ensemble import BaggingClassifier\n",
        "clf = tree.DecisionTreeClassifier(criterion='entropy')\n",
        "\n",
        "bagging_clf = BaggingClassifier(clf, n_estimators=20, max_samples=100, \n",
        "                                bootstrap=True, n_jobs=-1)\n",
        "bagging_clf.fit(trainingDataFeatures, trainingDataLabels)\n",
        "predictions = bagging_clf.predict(testDataFeatures)\n",
        "accuracy_score(testDataLabels, predictions)"
      ]
    },
    {
      "cell_type": "markdown",
      "metadata": {
        "id": "E1XYY6-2Wb6d"
      },
      "source": [
        "When I did this using a single decision tree classifier was 90.3% accurate, while the bagging classifier was 96.5% accurate--halving the error rate! that's pretty good!\n",
        "\n",
        "\n",
        "### Pasting\n",
        "Let's try the same thing with pasting (without replacement):\n",
        "\n",
        "For that we set the hyperparameter: `bootstrap=False`\n"
      ]
    },
    {
      "cell_type": "code",
      "execution_count": 10,
      "metadata": {
        "id": "YIwO0j1xWb6e",
        "colab": {
          "base_uri": "https://localhost:8080/"
        },
        "outputId": "f2679698-d26c-45c7-f040-918b7eae5c72"
      },
      "outputs": [
        {
          "output_type": "execute_result",
          "data": {
            "text/plain": [
              "0.9473684210526315"
            ]
          },
          "metadata": {},
          "execution_count": 10
        }
      ],
      "source": [
        "pasting_clf = BaggingClassifier(clf, n_estimators=20, max_samples=100, \n",
        "                                bootstrap=False, n_jobs=-1)\n",
        "pasting_clf.fit(trainingDataFeatures, trainingDataLabels)\n",
        "predictions = pasting_clf.predict(testDataFeatures)\n",
        "accuracy_score(testDataLabels, predictions)"
      ]
    },
    {
      "cell_type": "markdown",
      "metadata": {
        "id": "EcCz_Gu_Wb6f"
      },
      "source": [
        "### Random Subspaces\n",
        "Again, random subspaces are when we randomly select feature subsets rather than subsets of the dataset instances. This time we will create 50 classifiers for our collective and each will train on a dataset with 7 features (`max_feature=7`)."
      ]
    },
    {
      "cell_type": "code",
      "execution_count": 11,
      "metadata": {
        "id": "iCf10iICWb6f",
        "colab": {
          "base_uri": "https://localhost:8080/"
        },
        "outputId": "81ab0524-2b4f-4920-a4ce-31f317f16e91"
      },
      "outputs": [
        {
          "output_type": "execute_result",
          "data": {
            "text/plain": [
              "0.956140350877193"
            ]
          },
          "metadata": {},
          "execution_count": 11
        }
      ],
      "source": [
        "subspace_clf = BaggingClassifier(clf, n_estimators=50, max_features=7, \n",
        "                                bootstrap=True, n_jobs=-1)\n",
        "subspace_clf.fit(trainingDataFeatures, trainingDataLabels)\n",
        "predictions = subspace_clf.predict(testDataFeatures)\n",
        "accuracy_score(testDataLabels, predictions)"
      ]
    },
    {
      "cell_type": "markdown",
      "metadata": {
        "id": "_-9qdIG-Wb6f"
      },
      "source": [
        "### Random Patches\n",
        "Finally, let's combine things and try random patches. In this example each classifier will be given a subset of 100 training instances with 7 features each.:"
      ]
    },
    {
      "cell_type": "code",
      "execution_count": 12,
      "metadata": {
        "id": "JCjPbM08Wb6g",
        "colab": {
          "base_uri": "https://localhost:8080/"
        },
        "outputId": "bdeda7d6-f0b7-4523-ebd1-bfaa8f4d3a0e"
      },
      "outputs": [
        {
          "output_type": "execute_result",
          "data": {
            "text/plain": [
              "0.9473684210526315"
            ]
          },
          "metadata": {},
          "execution_count": 12
        }
      ],
      "source": [
        "subspace_clf = BaggingClassifier(clf, n_estimators=100, max_features=7, \n",
        "                                 max_samples=100, bootstrap=False, n_jobs=-1)\n",
        "subspace_clf.fit(trainingDataFeatures, trainingDataLabels)\n",
        "predictions = subspace_clf.predict(testDataFeatures)\n",
        "accuracy_score(testDataLabels, predictions)"
      ]
    },
    {
      "cell_type": "markdown",
      "metadata": {
        "id": "8bD3S8xDWb6g"
      },
      "source": [
        "While it is common to use a decision tree as the base classifier, we can use any classifier. Here we use kNN:"
      ]
    },
    {
      "cell_type": "code",
      "execution_count": 14,
      "metadata": {
        "id": "kuTZAjpIWb6g",
        "colab": {
          "base_uri": "https://localhost:8080/"
        },
        "outputId": "eb5ccb6a-dc27-4540-e26a-f5c1da220e77"
      },
      "outputs": [
        {
          "output_type": "execute_result",
          "data": {
            "text/plain": [
              "0.9298245614035088"
            ]
          },
          "metadata": {},
          "execution_count": 14
        }
      ],
      "source": [
        "from sklearn.neighbors import KNeighborsClassifier\n",
        "kNN = KNeighborsClassifier()\n",
        "bagging_clf = BaggingClassifier(kNN, n_estimators=20, max_samples=100, \n",
        "                                bootstrap=True, n_jobs=-1)\n",
        "bagging_clf.fit(trainingDataFeatures, trainingDataLabels)\n",
        "predictions = bagging_clf.predict(testDataFeatures)\n",
        "accuracy_score(testDataLabels, predictions)"
      ]
    },
    {
      "cell_type": "markdown",
      "metadata": {
        "id": "4_av0jdqWb6g"
      },
      "source": [
        "#### Summary\n",
        "As you can see, any of these simple bagging algorithms typically outperforms using a single classifier. \n",
        "\n",
        "\n",
        "### Review\n",
        "\n",
        "We import the bagging classifier library with:\n",
        "\n",
        "```\n",
        "from sklearn.ensemble import BaggingClassifier\n",
        "```\n",
        "\n",
        "and create an instance of one with:\n",
        "\n",
        "```\n",
        "my_bagging_classifier = BaggingClassifier(baseClassifier, Hyperparameters,n_jobs=-1)\n",
        "```\n",
        "\n",
        "#### Base Classifier\n",
        "while any classifier can be used we typically use a decision tree\n",
        "\n",
        "#### Hyperparameters\n",
        "Here is a list of the hyperparameters (from the [sklearn documentation](https://scikit-learn.org/stable/modules/generated/sklearn.ensemble.BaggingClassifier.html#sklearn.ensemble.BaggingClassifier)):\n",
        "\n",
        "* `n_estimators`: integer, default value = 10, the number of classifiers (estimators) in the ensemble.\n",
        "* `max_samples`: integer or float, default value = 1.0(meaning use all the training instances), the number of samples (instances) to draw from the training dataset to train each base classifier.\n",
        "    * if integer, then draw max_features features.\n",
        "    * if float, then draw max_samples * X.shape[0] samples. For example if `max_samples` is 0.7 and there are 100 instances in the training dataset then draw 70 samples.\n",
        "* `max_features`, integer or float, default value =1.0,  \n",
        "the number of features to draw from the training dataset to train each base estimator \n",
        "    * if integers, then draw max_features features.\n",
        "    * if float, then draw max_features * X.shape[1] features.\n",
        "* `bootstrap` boolean, default value =True, whether samples and features are drawn with replacement. If False, sampling without replacement is performed.\n",
        "\n",
        "For other hyperparamters, consult the documentation.\n",
        "\n",
        "\n",
        "![](https://raw.githubusercontent.com/zacharski/datamining-guide/master/labs/pics/torchdivide.png)\n",
        "\n",
        "\n",
        "# <font color='#EE4C2C'>You Try ...</font> \n",
        "## <font color='#EE4C2C'>Predicting musical genres from audio file attributes</font> \n",
        "\n",
        "\n",
        "When you listen even to a few seconds of a song you can identify it as blues, country, classical, or any other genre. How do you do this? What attributes are you hearing in the audio file that helps you make this classification? And, more to the point, can we train a computer to do it?\n",
        "\n",
        "![](https://raw.githubusercontent.com/zacharski/ml-class/master/labs/pics/bluesClassical.png)\n",
        "\n",
        "We are going to be using  the [GTZAN Dataset for Music Genre Classification](https://www.kaggle.com/andradaolteanu/gtzan-dataset-music-genre-classification). It provides data of 100 songs for each of 10 genres. The data is in several formats:\n",
        "\n",
        "* 30 second audio files (wav)\n",
        "* spectral images of those 30 second clips (see image above)\n",
        "* a csv file containing acoustic attributes of the 30 second clip\n",
        "* a csv file containing acoustic attributes of 3 second clips (the 30 second clips were split into 3 second ones)\n",
        "\n",
        "We are going to use the 3 second csv file which is available at \n",
        "\n",
        "https://raw.githubusercontent.com/zacharski/ml-class/master/data/gtzan.csv\n",
        "\n",
        "Go ahead and load the data into a dataframe (the first row contains feature names)\n"
      ]
    },
    {
      "cell_type": "markdown",
      "source": [
        "Setting up the environment"
      ],
      "metadata": {
        "id": "ddU7HPVMW2hn"
      }
    },
    {
      "cell_type": "code",
      "source": [
        "from sklearn.ensemble import BaggingClassifier\n",
        "import pandas as pd\n",
        "from pandas import DataFrame, Series\n",
        "from sklearn.model_selection import train_test_split\n",
        "from sklearn.metrics import accuracy_score \n",
        "from sklearn import tree\n",
        "from sklearn.neighbors import KNeighborsClassifier"
      ],
      "metadata": {
        "id": "qw5OkIloW4cV"
      },
      "execution_count": 55,
      "outputs": []
    },
    {
      "cell_type": "code",
      "execution_count": 56,
      "metadata": {
        "id": "IiF0cRc4Wb6h",
        "colab": {
          "base_uri": "https://localhost:8080/",
          "height": 487
        },
        "outputId": "c36e2e0d-f048-4078-9239-ecc33af32ec5"
      },
      "outputs": [
        {
          "output_type": "execute_result",
          "data": {
            "text/plain": [
              "               filename  length  chroma_stft_mean  chroma_stft_var  rms_mean  \\\n",
              "0     blues.00000.0.wav   66149          0.335406         0.091048  0.130405   \n",
              "1     blues.00000.1.wav   66149          0.343065         0.086147  0.112699   \n",
              "2     blues.00000.2.wav   66149          0.346815         0.092243  0.132003   \n",
              "3     blues.00000.3.wav   66149          0.363639         0.086856  0.132565   \n",
              "4     blues.00000.4.wav   66149          0.335579         0.088129  0.143289   \n",
              "...                 ...     ...               ...              ...       ...   \n",
              "9985   rock.00099.5.wav   66149          0.349126         0.080515  0.050019   \n",
              "9986   rock.00099.6.wav   66149          0.372564         0.082626  0.057897   \n",
              "9987   rock.00099.7.wav   66149          0.347481         0.089019  0.052403   \n",
              "9988   rock.00099.8.wav   66149          0.387527         0.084815  0.066430   \n",
              "9989   rock.00099.9.wav   66149          0.369293         0.086759  0.050524   \n",
              "\n",
              "       rms_var  spectral_centroid_mean  spectral_centroid_var  \\\n",
              "0     0.003521             1773.065032          167541.630869   \n",
              "1     0.001450             1816.693777           90525.690866   \n",
              "2     0.004620             1788.539719          111407.437613   \n",
              "3     0.002448             1655.289045          111952.284517   \n",
              "4     0.001701             1630.656199           79667.267654   \n",
              "...        ...                     ...                    ...   \n",
              "9985  0.000097             1499.083005          164266.886443   \n",
              "9986  0.000088             1847.965128          281054.935973   \n",
              "9987  0.000701             1346.157659          662956.246325   \n",
              "9988  0.000320             2084.515327          203891.039161   \n",
              "9989  0.000067             1634.330126          411429.169769   \n",
              "\n",
              "      spectral_bandwidth_mean  spectral_bandwidth_var  ...  mfcc16_var  \\\n",
              "0                 1972.744388           117335.771563  ...   39.687145   \n",
              "1                 2010.051501            65671.875673  ...   64.748276   \n",
              "2                 2084.565132            75124.921716  ...   67.336563   \n",
              "3                 1960.039988            82913.639269  ...   47.739452   \n",
              "4                 1948.503884            60204.020268  ...   30.336359   \n",
              "...                       ...                     ...  ...         ...   \n",
              "9985              1718.707215            85931.574523  ...   42.485981   \n",
              "9986              1906.468492            99727.037054  ...   32.415203   \n",
              "9987              1561.859087           138762.841945  ...   78.228149   \n",
              "9988              2018.366254            22860.992562  ...   28.323744   \n",
              "9989              1867.422378           119722.211518  ...   38.801735   \n",
              "\n",
              "      mfcc17_mean  mfcc17_var  mfcc18_mean  mfcc18_var  mfcc19_mean  \\\n",
              "0       -3.241280   36.488243     0.722209   38.099152    -5.050335   \n",
              "1       -6.055294   40.677654     0.159015   51.264091    -2.837699   \n",
              "2       -1.768610   28.348579     2.378768   45.717648    -1.938424   \n",
              "3       -3.841155   28.337118     1.218588   34.770935    -3.580352   \n",
              "4        0.664582   45.880913     1.689446   51.363583    -3.392489   \n",
              "...           ...         ...          ...         ...          ...   \n",
              "9985    -9.094270   38.326839    -4.246976   31.049839    -5.625813   \n",
              "9986   -12.375726   66.418587    -3.081278   54.414265   -11.960546   \n",
              "9987    -2.524483   21.778994     4.809936   25.980829     1.775686   \n",
              "9988    -5.363541   17.209942     6.462601   21.442928     2.354765   \n",
              "9989   -11.598399   58.983097    -0.178517   55.761299    -6.903252   \n",
              "\n",
              "      mfcc19_var  mfcc20_mean  mfcc20_var  label  \n",
              "0      33.618073    -0.243027   43.771767  blues  \n",
              "1      97.030830     5.784063   59.943081  blues  \n",
              "2      53.050835     2.517375   33.105122  blues  \n",
              "3      50.836224     3.630866   32.023678  blues  \n",
              "4      26.738789     0.536961   29.146694  blues  \n",
              "...          ...          ...         ...    ...  \n",
              "9985   48.804092     1.818823   38.966969   rock  \n",
              "9986   63.452255     0.428857   18.697033   rock  \n",
              "9987   48.582378    -0.299545   41.586990   rock  \n",
              "9988   24.843613     0.675824   12.787750   rock  \n",
              "9989   39.485901    -3.412534   31.727489   rock  \n",
              "\n",
              "[9990 rows x 60 columns]"
            ],
            "text/html": [
              "\n",
              "  <div id=\"df-73d00a08-181a-41a5-a596-4637e64c5301\">\n",
              "    <div class=\"colab-df-container\">\n",
              "      <div>\n",
              "<style scoped>\n",
              "    .dataframe tbody tr th:only-of-type {\n",
              "        vertical-align: middle;\n",
              "    }\n",
              "\n",
              "    .dataframe tbody tr th {\n",
              "        vertical-align: top;\n",
              "    }\n",
              "\n",
              "    .dataframe thead th {\n",
              "        text-align: right;\n",
              "    }\n",
              "</style>\n",
              "<table border=\"1\" class=\"dataframe\">\n",
              "  <thead>\n",
              "    <tr style=\"text-align: right;\">\n",
              "      <th></th>\n",
              "      <th>filename</th>\n",
              "      <th>length</th>\n",
              "      <th>chroma_stft_mean</th>\n",
              "      <th>chroma_stft_var</th>\n",
              "      <th>rms_mean</th>\n",
              "      <th>rms_var</th>\n",
              "      <th>spectral_centroid_mean</th>\n",
              "      <th>spectral_centroid_var</th>\n",
              "      <th>spectral_bandwidth_mean</th>\n",
              "      <th>spectral_bandwidth_var</th>\n",
              "      <th>...</th>\n",
              "      <th>mfcc16_var</th>\n",
              "      <th>mfcc17_mean</th>\n",
              "      <th>mfcc17_var</th>\n",
              "      <th>mfcc18_mean</th>\n",
              "      <th>mfcc18_var</th>\n",
              "      <th>mfcc19_mean</th>\n",
              "      <th>mfcc19_var</th>\n",
              "      <th>mfcc20_mean</th>\n",
              "      <th>mfcc20_var</th>\n",
              "      <th>label</th>\n",
              "    </tr>\n",
              "  </thead>\n",
              "  <tbody>\n",
              "    <tr>\n",
              "      <th>0</th>\n",
              "      <td>blues.00000.0.wav</td>\n",
              "      <td>66149</td>\n",
              "      <td>0.335406</td>\n",
              "      <td>0.091048</td>\n",
              "      <td>0.130405</td>\n",
              "      <td>0.003521</td>\n",
              "      <td>1773.065032</td>\n",
              "      <td>167541.630869</td>\n",
              "      <td>1972.744388</td>\n",
              "      <td>117335.771563</td>\n",
              "      <td>...</td>\n",
              "      <td>39.687145</td>\n",
              "      <td>-3.241280</td>\n",
              "      <td>36.488243</td>\n",
              "      <td>0.722209</td>\n",
              "      <td>38.099152</td>\n",
              "      <td>-5.050335</td>\n",
              "      <td>33.618073</td>\n",
              "      <td>-0.243027</td>\n",
              "      <td>43.771767</td>\n",
              "      <td>blues</td>\n",
              "    </tr>\n",
              "    <tr>\n",
              "      <th>1</th>\n",
              "      <td>blues.00000.1.wav</td>\n",
              "      <td>66149</td>\n",
              "      <td>0.343065</td>\n",
              "      <td>0.086147</td>\n",
              "      <td>0.112699</td>\n",
              "      <td>0.001450</td>\n",
              "      <td>1816.693777</td>\n",
              "      <td>90525.690866</td>\n",
              "      <td>2010.051501</td>\n",
              "      <td>65671.875673</td>\n",
              "      <td>...</td>\n",
              "      <td>64.748276</td>\n",
              "      <td>-6.055294</td>\n",
              "      <td>40.677654</td>\n",
              "      <td>0.159015</td>\n",
              "      <td>51.264091</td>\n",
              "      <td>-2.837699</td>\n",
              "      <td>97.030830</td>\n",
              "      <td>5.784063</td>\n",
              "      <td>59.943081</td>\n",
              "      <td>blues</td>\n",
              "    </tr>\n",
              "    <tr>\n",
              "      <th>2</th>\n",
              "      <td>blues.00000.2.wav</td>\n",
              "      <td>66149</td>\n",
              "      <td>0.346815</td>\n",
              "      <td>0.092243</td>\n",
              "      <td>0.132003</td>\n",
              "      <td>0.004620</td>\n",
              "      <td>1788.539719</td>\n",
              "      <td>111407.437613</td>\n",
              "      <td>2084.565132</td>\n",
              "      <td>75124.921716</td>\n",
              "      <td>...</td>\n",
              "      <td>67.336563</td>\n",
              "      <td>-1.768610</td>\n",
              "      <td>28.348579</td>\n",
              "      <td>2.378768</td>\n",
              "      <td>45.717648</td>\n",
              "      <td>-1.938424</td>\n",
              "      <td>53.050835</td>\n",
              "      <td>2.517375</td>\n",
              "      <td>33.105122</td>\n",
              "      <td>blues</td>\n",
              "    </tr>\n",
              "    <tr>\n",
              "      <th>3</th>\n",
              "      <td>blues.00000.3.wav</td>\n",
              "      <td>66149</td>\n",
              "      <td>0.363639</td>\n",
              "      <td>0.086856</td>\n",
              "      <td>0.132565</td>\n",
              "      <td>0.002448</td>\n",
              "      <td>1655.289045</td>\n",
              "      <td>111952.284517</td>\n",
              "      <td>1960.039988</td>\n",
              "      <td>82913.639269</td>\n",
              "      <td>...</td>\n",
              "      <td>47.739452</td>\n",
              "      <td>-3.841155</td>\n",
              "      <td>28.337118</td>\n",
              "      <td>1.218588</td>\n",
              "      <td>34.770935</td>\n",
              "      <td>-3.580352</td>\n",
              "      <td>50.836224</td>\n",
              "      <td>3.630866</td>\n",
              "      <td>32.023678</td>\n",
              "      <td>blues</td>\n",
              "    </tr>\n",
              "    <tr>\n",
              "      <th>4</th>\n",
              "      <td>blues.00000.4.wav</td>\n",
              "      <td>66149</td>\n",
              "      <td>0.335579</td>\n",
              "      <td>0.088129</td>\n",
              "      <td>0.143289</td>\n",
              "      <td>0.001701</td>\n",
              "      <td>1630.656199</td>\n",
              "      <td>79667.267654</td>\n",
              "      <td>1948.503884</td>\n",
              "      <td>60204.020268</td>\n",
              "      <td>...</td>\n",
              "      <td>30.336359</td>\n",
              "      <td>0.664582</td>\n",
              "      <td>45.880913</td>\n",
              "      <td>1.689446</td>\n",
              "      <td>51.363583</td>\n",
              "      <td>-3.392489</td>\n",
              "      <td>26.738789</td>\n",
              "      <td>0.536961</td>\n",
              "      <td>29.146694</td>\n",
              "      <td>blues</td>\n",
              "    </tr>\n",
              "    <tr>\n",
              "      <th>...</th>\n",
              "      <td>...</td>\n",
              "      <td>...</td>\n",
              "      <td>...</td>\n",
              "      <td>...</td>\n",
              "      <td>...</td>\n",
              "      <td>...</td>\n",
              "      <td>...</td>\n",
              "      <td>...</td>\n",
              "      <td>...</td>\n",
              "      <td>...</td>\n",
              "      <td>...</td>\n",
              "      <td>...</td>\n",
              "      <td>...</td>\n",
              "      <td>...</td>\n",
              "      <td>...</td>\n",
              "      <td>...</td>\n",
              "      <td>...</td>\n",
              "      <td>...</td>\n",
              "      <td>...</td>\n",
              "      <td>...</td>\n",
              "      <td>...</td>\n",
              "    </tr>\n",
              "    <tr>\n",
              "      <th>9985</th>\n",
              "      <td>rock.00099.5.wav</td>\n",
              "      <td>66149</td>\n",
              "      <td>0.349126</td>\n",
              "      <td>0.080515</td>\n",
              "      <td>0.050019</td>\n",
              "      <td>0.000097</td>\n",
              "      <td>1499.083005</td>\n",
              "      <td>164266.886443</td>\n",
              "      <td>1718.707215</td>\n",
              "      <td>85931.574523</td>\n",
              "      <td>...</td>\n",
              "      <td>42.485981</td>\n",
              "      <td>-9.094270</td>\n",
              "      <td>38.326839</td>\n",
              "      <td>-4.246976</td>\n",
              "      <td>31.049839</td>\n",
              "      <td>-5.625813</td>\n",
              "      <td>48.804092</td>\n",
              "      <td>1.818823</td>\n",
              "      <td>38.966969</td>\n",
              "      <td>rock</td>\n",
              "    </tr>\n",
              "    <tr>\n",
              "      <th>9986</th>\n",
              "      <td>rock.00099.6.wav</td>\n",
              "      <td>66149</td>\n",
              "      <td>0.372564</td>\n",
              "      <td>0.082626</td>\n",
              "      <td>0.057897</td>\n",
              "      <td>0.000088</td>\n",
              "      <td>1847.965128</td>\n",
              "      <td>281054.935973</td>\n",
              "      <td>1906.468492</td>\n",
              "      <td>99727.037054</td>\n",
              "      <td>...</td>\n",
              "      <td>32.415203</td>\n",
              "      <td>-12.375726</td>\n",
              "      <td>66.418587</td>\n",
              "      <td>-3.081278</td>\n",
              "      <td>54.414265</td>\n",
              "      <td>-11.960546</td>\n",
              "      <td>63.452255</td>\n",
              "      <td>0.428857</td>\n",
              "      <td>18.697033</td>\n",
              "      <td>rock</td>\n",
              "    </tr>\n",
              "    <tr>\n",
              "      <th>9987</th>\n",
              "      <td>rock.00099.7.wav</td>\n",
              "      <td>66149</td>\n",
              "      <td>0.347481</td>\n",
              "      <td>0.089019</td>\n",
              "      <td>0.052403</td>\n",
              "      <td>0.000701</td>\n",
              "      <td>1346.157659</td>\n",
              "      <td>662956.246325</td>\n",
              "      <td>1561.859087</td>\n",
              "      <td>138762.841945</td>\n",
              "      <td>...</td>\n",
              "      <td>78.228149</td>\n",
              "      <td>-2.524483</td>\n",
              "      <td>21.778994</td>\n",
              "      <td>4.809936</td>\n",
              "      <td>25.980829</td>\n",
              "      <td>1.775686</td>\n",
              "      <td>48.582378</td>\n",
              "      <td>-0.299545</td>\n",
              "      <td>41.586990</td>\n",
              "      <td>rock</td>\n",
              "    </tr>\n",
              "    <tr>\n",
              "      <th>9988</th>\n",
              "      <td>rock.00099.8.wav</td>\n",
              "      <td>66149</td>\n",
              "      <td>0.387527</td>\n",
              "      <td>0.084815</td>\n",
              "      <td>0.066430</td>\n",
              "      <td>0.000320</td>\n",
              "      <td>2084.515327</td>\n",
              "      <td>203891.039161</td>\n",
              "      <td>2018.366254</td>\n",
              "      <td>22860.992562</td>\n",
              "      <td>...</td>\n",
              "      <td>28.323744</td>\n",
              "      <td>-5.363541</td>\n",
              "      <td>17.209942</td>\n",
              "      <td>6.462601</td>\n",
              "      <td>21.442928</td>\n",
              "      <td>2.354765</td>\n",
              "      <td>24.843613</td>\n",
              "      <td>0.675824</td>\n",
              "      <td>12.787750</td>\n",
              "      <td>rock</td>\n",
              "    </tr>\n",
              "    <tr>\n",
              "      <th>9989</th>\n",
              "      <td>rock.00099.9.wav</td>\n",
              "      <td>66149</td>\n",
              "      <td>0.369293</td>\n",
              "      <td>0.086759</td>\n",
              "      <td>0.050524</td>\n",
              "      <td>0.000067</td>\n",
              "      <td>1634.330126</td>\n",
              "      <td>411429.169769</td>\n",
              "      <td>1867.422378</td>\n",
              "      <td>119722.211518</td>\n",
              "      <td>...</td>\n",
              "      <td>38.801735</td>\n",
              "      <td>-11.598399</td>\n",
              "      <td>58.983097</td>\n",
              "      <td>-0.178517</td>\n",
              "      <td>55.761299</td>\n",
              "      <td>-6.903252</td>\n",
              "      <td>39.485901</td>\n",
              "      <td>-3.412534</td>\n",
              "      <td>31.727489</td>\n",
              "      <td>rock</td>\n",
              "    </tr>\n",
              "  </tbody>\n",
              "</table>\n",
              "<p>9990 rows × 60 columns</p>\n",
              "</div>\n",
              "      <button class=\"colab-df-convert\" onclick=\"convertToInteractive('df-73d00a08-181a-41a5-a596-4637e64c5301')\"\n",
              "              title=\"Convert this dataframe to an interactive table.\"\n",
              "              style=\"display:none;\">\n",
              "        \n",
              "  <svg xmlns=\"http://www.w3.org/2000/svg\" height=\"24px\"viewBox=\"0 0 24 24\"\n",
              "       width=\"24px\">\n",
              "    <path d=\"M0 0h24v24H0V0z\" fill=\"none\"/>\n",
              "    <path d=\"M18.56 5.44l.94 2.06.94-2.06 2.06-.94-2.06-.94-.94-2.06-.94 2.06-2.06.94zm-11 1L8.5 8.5l.94-2.06 2.06-.94-2.06-.94L8.5 2.5l-.94 2.06-2.06.94zm10 10l.94 2.06.94-2.06 2.06-.94-2.06-.94-.94-2.06-.94 2.06-2.06.94z\"/><path d=\"M17.41 7.96l-1.37-1.37c-.4-.4-.92-.59-1.43-.59-.52 0-1.04.2-1.43.59L10.3 9.45l-7.72 7.72c-.78.78-.78 2.05 0 2.83L4 21.41c.39.39.9.59 1.41.59.51 0 1.02-.2 1.41-.59l7.78-7.78 2.81-2.81c.8-.78.8-2.07 0-2.86zM5.41 20L4 18.59l7.72-7.72 1.47 1.35L5.41 20z\"/>\n",
              "  </svg>\n",
              "      </button>\n",
              "      \n",
              "  <style>\n",
              "    .colab-df-container {\n",
              "      display:flex;\n",
              "      flex-wrap:wrap;\n",
              "      gap: 12px;\n",
              "    }\n",
              "\n",
              "    .colab-df-convert {\n",
              "      background-color: #E8F0FE;\n",
              "      border: none;\n",
              "      border-radius: 50%;\n",
              "      cursor: pointer;\n",
              "      display: none;\n",
              "      fill: #1967D2;\n",
              "      height: 32px;\n",
              "      padding: 0 0 0 0;\n",
              "      width: 32px;\n",
              "    }\n",
              "\n",
              "    .colab-df-convert:hover {\n",
              "      background-color: #E2EBFA;\n",
              "      box-shadow: 0px 1px 2px rgba(60, 64, 67, 0.3), 0px 1px 3px 1px rgba(60, 64, 67, 0.15);\n",
              "      fill: #174EA6;\n",
              "    }\n",
              "\n",
              "    [theme=dark] .colab-df-convert {\n",
              "      background-color: #3B4455;\n",
              "      fill: #D2E3FC;\n",
              "    }\n",
              "\n",
              "    [theme=dark] .colab-df-convert:hover {\n",
              "      background-color: #434B5C;\n",
              "      box-shadow: 0px 1px 3px 1px rgba(0, 0, 0, 0.15);\n",
              "      filter: drop-shadow(0px 1px 2px rgba(0, 0, 0, 0.3));\n",
              "      fill: #FFFFFF;\n",
              "    }\n",
              "  </style>\n",
              "\n",
              "      <script>\n",
              "        const buttonEl =\n",
              "          document.querySelector('#df-73d00a08-181a-41a5-a596-4637e64c5301 button.colab-df-convert');\n",
              "        buttonEl.style.display =\n",
              "          google.colab.kernel.accessAllowed ? 'block' : 'none';\n",
              "\n",
              "        async function convertToInteractive(key) {\n",
              "          const element = document.querySelector('#df-73d00a08-181a-41a5-a596-4637e64c5301');\n",
              "          const dataTable =\n",
              "            await google.colab.kernel.invokeFunction('convertToInteractive',\n",
              "                                                     [key], {});\n",
              "          if (!dataTable) return;\n",
              "\n",
              "          const docLinkHtml = 'Like what you see? Visit the ' +\n",
              "            '<a target=\"_blank\" href=https://colab.research.google.com/notebooks/data_table.ipynb>data table notebook</a>'\n",
              "            + ' to learn more about interactive tables.';\n",
              "          element.innerHTML = '';\n",
              "          dataTable['output_type'] = 'display_data';\n",
              "          await google.colab.output.renderOutput(dataTable, element);\n",
              "          const docLink = document.createElement('div');\n",
              "          docLink.innerHTML = docLinkHtml;\n",
              "          element.appendChild(docLink);\n",
              "        }\n",
              "      </script>\n",
              "    </div>\n",
              "  </div>\n",
              "  "
            ]
          },
          "metadata": {},
          "execution_count": 56
        }
      ],
      "source": [
        "music = pd.read_csv('https://raw.githubusercontent.com/zacharski/ml-class/master/data/gtzan.csv')\n",
        "music"
      ]
    },
    {
      "cell_type": "markdown",
      "metadata": {
        "id": "yAAvRO8JWb6h"
      },
      "source": [
        "Let's examine the values of the label column (the genres):"
      ]
    },
    {
      "cell_type": "code",
      "execution_count": 57,
      "metadata": {
        "id": "0m3K-MgiWb6h",
        "colab": {
          "base_uri": "https://localhost:8080/"
        },
        "outputId": "d7685794-b180-49e4-e86f-0846a7bbe29c"
      },
      "outputs": [
        {
          "output_type": "execute_result",
          "data": {
            "text/plain": [
              "array(['blues', 'classical', 'country', 'disco', 'hiphop', 'jazz',\n",
              "       'metal', 'pop', 'reggae', 'rock'], dtype=object)"
            ]
          },
          "metadata": {},
          "execution_count": 57
        }
      ],
      "source": [
        "music.label.unique()"
      ]
    },
    {
      "cell_type": "markdown",
      "metadata": {
        "id": "AlKrZfoVWb6h"
      },
      "source": [
        "Those are the 10 genres we are trying to predict. So if we were just to guess without hearing the clip, we would be accurate 10% of the time. How accurate do you think you would be based on hearing a 3 second clip? I am pretty confident I could correctly label the 30 second clips, but I am much less confident about labeling 3 second ones. Since guessing randomly would give me 10% accuracy, I am estimating maybe 50-60% accuracy. Let's see how a computer does.\n",
        "\n",
        "#### Feature Names\n",
        "So the column we are trying to predict is `label`. Now let's get the names of the feature columns"
      ]
    },
    {
      "cell_type": "code",
      "execution_count": 58,
      "metadata": {
        "id": "D1bvL8bCWb6h",
        "scrolled": true,
        "colab": {
          "base_uri": "https://localhost:8080/"
        },
        "outputId": "72704566-20de-4aed-f8e4-8284a53b213c"
      },
      "outputs": [
        {
          "output_type": "stream",
          "name": "stdout",
          "text": [
            "['length', 'chroma_stft_mean', 'chroma_stft_var', 'rms_mean', 'rms_var', 'spectral_centroid_mean', 'spectral_centroid_var', 'spectral_bandwidth_mean', 'spectral_bandwidth_var', 'rolloff_mean', 'rolloff_var', 'zero_crossing_rate_mean', 'zero_crossing_rate_var', 'harmony_mean', 'harmony_var', 'perceptr_mean', 'perceptr_var', 'tempo', 'mfcc1_mean', 'mfcc1_var', 'mfcc2_mean', 'mfcc2_var', 'mfcc3_mean', 'mfcc3_var', 'mfcc4_mean', 'mfcc4_var', 'mfcc5_mean', 'mfcc5_var', 'mfcc6_mean', 'mfcc6_var', 'mfcc7_mean', 'mfcc7_var', 'mfcc8_mean', 'mfcc8_var', 'mfcc9_mean', 'mfcc9_var', 'mfcc10_mean', 'mfcc10_var', 'mfcc11_mean', 'mfcc11_var', 'mfcc12_mean', 'mfcc12_var', 'mfcc13_mean', 'mfcc13_var', 'mfcc14_mean', 'mfcc14_var', 'mfcc15_mean', 'mfcc15_var', 'mfcc16_mean', 'mfcc16_var', 'mfcc17_mean', 'mfcc17_var', 'mfcc18_mean', 'mfcc18_var', 'mfcc19_mean', 'mfcc19_var', 'mfcc20_mean', 'mfcc20_var']\n",
            "58\n"
          ]
        }
      ],
      "source": [
        "featureNames = list(music.columns)\n",
        "featureNames.remove('filename')\n",
        "featureNames.remove('label')\n",
        "print(featureNames)\n",
        "print(len(featureNames))"
      ]
    },
    {
      "cell_type": "markdown",
      "metadata": {
        "id": "I-B5g-RAWb6h"
      },
      "source": [
        "So we have 58 features. \n",
        "\n",
        "#### Training and test sets\n",
        "Now it is time to construct the training and test sets:"
      ]
    },
    {
      "cell_type": "code",
      "execution_count": 59,
      "metadata": {
        "id": "1zqluOErWb6h"
      },
      "outputs": [],
      "source": [
        "## divide the original data 80% going into the music_training dataset \n",
        "## the rest in music_test\n",
        "music_training, music_test = train_test_split(music, train_size=0.8)\n",
        "                              \n",
        "## now create the DataFrames for just the features (excluding the label column \n",
        "## filename column)                              \n",
        "music_training_features = music_training.drop(columns=['label', 'filename'])\n",
        "music_test_features = music_test.drop(columns=['label', 'filename'])\n",
        "                              \n",
        "## now create the labels data structure for both the training and test sets                              \n",
        "music_training_labels = music_training['label']\n",
        "music_test_labels = music_test['label']"
      ]
    },
    {
      "cell_type": "markdown",
      "metadata": {
        "id": "touv2_GAWb6h"
      },
      "source": [
        "### Building a single decision tree classifier\n",
        "Let's build a single decision tree classifier called `clf` using entropy, fit it to the data, make predictions and determine the accuracy:"
      ]
    },
    {
      "cell_type": "code",
      "execution_count": 60,
      "metadata": {
        "id": "1V3O5patWb6h",
        "colab": {
          "base_uri": "https://localhost:8080/"
        },
        "outputId": "60d92837-8ffe-425d-b10b-583f785760cd"
      },
      "outputs": [
        {
          "output_type": "execute_result",
          "data": {
            "text/plain": [
              "0.6651651651651652"
            ]
          },
          "metadata": {},
          "execution_count": 60
        }
      ],
      "source": [
        "## Create clf, an instance of the Decision Tree Classifier\n",
        "clf = tree.DecisionTreeClassifier(criterion='entropy')\n",
        "\n",
        "## Fit it to the data\n",
        "clf.fit(music_training_features, music_training_labels)\n",
        "\n",
        "## get the predictions for the test set\n",
        "basePredictions = clf.predict(music_test_features)\n",
        "\n",
        "## get the accuracy score\n",
        "baseAccuracy = accuracy_score(music_test_labels, basePredictions)\n",
        "baseAccuracy"
      ]
    },
    {
      "cell_type": "markdown",
      "metadata": {
        "id": "DEcDPHNUWb6h"
      },
      "source": [
        "When I did this I got 66% accuracy. That doesn't sound great but keep in mind that random guessing would only be 10% accuracy. \n",
        "\n",
        "### Building a Random Patch Classifier\n",
        "\n",
        "Now we are going to build a random patch classifier.\n",
        "\n",
        "* the base classifier will be a decision tree using entropy\n",
        "* the ensemble will contain 20 base classifiers\n",
        "* each classifier will use a random sample of 70% of the training data\n",
        "* each classifier will use a random sample of 70% of the features\n",
        "* the sampling will be done with replacement\n",
        "* it will use all available cpu cores.\n",
        "\n",
        "We are going to\n",
        "\n",
        "1. build the classifier\n",
        "2. train the classifier on the data\n",
        "3. make predictions on the test set\n",
        "4. determine the accuracy"
      ]
    },
    {
      "cell_type": "code",
      "execution_count": 61,
      "metadata": {
        "id": "HjTNhPVdWb6h"
      },
      "outputs": [],
      "source": [
        "clf2 = tree.DecisionTreeClassifier(criterion='entropy')\n",
        "randomPatchClf = BaggingClassifier(clf2, n_estimators=20, max_samples=0.7, max_features=0.7, bootstrap=True, n_jobs=-1)"
      ]
    },
    {
      "cell_type": "code",
      "source": [
        "randomPatchClf.fit(music_training_features, music_training_labels)"
      ],
      "metadata": {
        "colab": {
          "base_uri": "https://localhost:8080/"
        },
        "id": "FB0J6FcaZ2nP",
        "outputId": "22fa2825-2718-4de2-9a84-1788961d9dbe"
      },
      "execution_count": 62,
      "outputs": [
        {
          "output_type": "execute_result",
          "data": {
            "text/plain": [
              "BaggingClassifier(base_estimator=DecisionTreeClassifier(criterion='entropy'),\n",
              "                  max_features=0.7, max_samples=0.7, n_estimators=20,\n",
              "                  n_jobs=-1)"
            ]
          },
          "metadata": {},
          "execution_count": 62
        }
      ]
    },
    {
      "cell_type": "code",
      "source": [
        "patchPredictions = randomPatchClf.predict(music_test_features)\n",
        "patchAccuracy = accuracy_score(music_test_labels, patchPredictions)\n",
        "patchAccuracy"
      ],
      "metadata": {
        "colab": {
          "base_uri": "https://localhost:8080/"
        },
        "id": "VG6ADx8PaDfP",
        "outputId": "02aa529d-22dc-46fb-d0a1-473b6977d6f1"
      },
      "execution_count": 63,
      "outputs": [
        {
          "output_type": "execute_result",
          "data": {
            "text/plain": [
              "0.8323323323323323"
            ]
          },
          "metadata": {},
          "execution_count": 63
        }
      ]
    },
    {
      "cell_type": "markdown",
      "metadata": {
        "id": "7W3cc2--Wb6h"
      },
      "source": [
        "What accuracy did you get? Was it better than using a single classifier?\n",
        "Keep your original code above. Make a copy of it below and \n",
        "experiment a bit with the hyperparameters. (try 3 or 4 different things) What is the best accuracy you can get?"
      ]
    },
    {
      "cell_type": "markdown",
      "source": [
        "### My accuracy"
      ],
      "metadata": {
        "id": "AxSjW84Taj0h"
      }
    },
    {
      "cell_type": "markdown",
      "source": [
        "The random patch classifier I created had an 81.38% accuracy, which is higher than the 66% accuracy I got from the single decision tree classifier."
      ],
      "metadata": {
        "id": "ZpVew_SWamdX"
      }
    },
    {
      "cell_type": "markdown",
      "source": [
        "### Different hyperparameters"
      ],
      "metadata": {
        "id": "ASYoAoQ5a41N"
      }
    },
    {
      "cell_type": "markdown",
      "source": [
        "Bagging"
      ],
      "metadata": {
        "id": "aMlp2C7tbe79"
      }
    },
    {
      "cell_type": "code",
      "execution_count": 64,
      "metadata": {
        "id": "p83tIBVhWb6i"
      },
      "outputs": [],
      "source": [
        "baggingClf = BaggingClassifier(clf2, n_estimators=100, max_samples=0.6, bootstrap=True, n_jobs=-1) # tried 30, 50, and 100 estimators"
      ]
    },
    {
      "cell_type": "code",
      "source": [
        "baggingClf.fit(music_training_features, music_training_labels)"
      ],
      "metadata": {
        "colab": {
          "base_uri": "https://localhost:8080/"
        },
        "id": "PTdzOBP9cKYt",
        "outputId": "758c4a80-b367-4348-d986-2fd7316188dc"
      },
      "execution_count": 66,
      "outputs": [
        {
          "output_type": "execute_result",
          "data": {
            "text/plain": [
              "BaggingClassifier(base_estimator=DecisionTreeClassifier(criterion='entropy'),\n",
              "                  max_samples=0.6, n_estimators=100, n_jobs=-1)"
            ]
          },
          "metadata": {},
          "execution_count": 66
        }
      ]
    },
    {
      "cell_type": "code",
      "source": [
        "bagPredict = baggingClf.predict(music_test_features)\n",
        "bagScore = accuracy_score(music_test_labels, bagPredict)\n",
        "bagScore"
      ],
      "metadata": {
        "colab": {
          "base_uri": "https://localhost:8080/"
        },
        "id": "a9HcwCOIcR-7",
        "outputId": "1280223e-5e2d-4cab-b5da-410b714f090f"
      },
      "execution_count": 67,
      "outputs": [
        {
          "output_type": "execute_result",
          "data": {
            "text/plain": [
              "0.8448448448448449"
            ]
          },
          "metadata": {},
          "execution_count": 67
        }
      ]
    },
    {
      "cell_type": "markdown",
      "source": [
        "Pasting"
      ],
      "metadata": {
        "id": "YZnUSqdGbrW1"
      }
    },
    {
      "cell_type": "code",
      "execution_count": 68,
      "metadata": {
        "id": "FkuEN3GUWb6i"
      },
      "outputs": [],
      "source": [
        "pastingClf = BaggingClassifier(clf2, n_estimators=25, max_samples=0.04, bootstrap=False, n_jobs=-1)"
      ]
    },
    {
      "cell_type": "code",
      "source": [
        "pastingClf.fit(music_training_features, music_training_labels)"
      ],
      "metadata": {
        "colab": {
          "base_uri": "https://localhost:8080/"
        },
        "id": "IPXykBG8cn44",
        "outputId": "0612cbee-354e-4f14-e200-5c6d6994ccd4"
      },
      "execution_count": 69,
      "outputs": [
        {
          "output_type": "execute_result",
          "data": {
            "text/plain": [
              "BaggingClassifier(base_estimator=DecisionTreeClassifier(criterion='entropy'),\n",
              "                  bootstrap=False, max_samples=0.04, n_estimators=25,\n",
              "                  n_jobs=-1)"
            ]
          },
          "metadata": {},
          "execution_count": 69
        }
      ]
    },
    {
      "cell_type": "code",
      "source": [
        "pastePredict = pastingClf.predict(music_test_features)\n",
        "pasteScore = accuracy_score(music_test_labels, pastePredict)\n",
        "pasteScore"
      ],
      "metadata": {
        "colab": {
          "base_uri": "https://localhost:8080/"
        },
        "id": "BWrr_kAxcqPu",
        "outputId": "2d87b827-1942-49bf-91af-beb91069e512"
      },
      "execution_count": 70,
      "outputs": [
        {
          "output_type": "execute_result",
          "data": {
            "text/plain": [
              "0.6241241241241241"
            ]
          },
          "metadata": {},
          "execution_count": 70
        }
      ]
    },
    {
      "cell_type": "markdown",
      "source": [
        "Random Subspace"
      ],
      "metadata": {
        "id": "bn6YZhw7b39M"
      }
    },
    {
      "cell_type": "code",
      "source": [
        "randomSubspacesClf = BaggingClassifier(clf2, n_estimators=30, max_features=7, bootstrap=True, n_jobs=-1)"
      ],
      "metadata": {
        "id": "z2ZJwh3Vb5xG"
      },
      "execution_count": 71,
      "outputs": []
    },
    {
      "cell_type": "code",
      "source": [
        "randomSubspacesClf.fit(music_training_features, music_training_labels)"
      ],
      "metadata": {
        "colab": {
          "base_uri": "https://localhost:8080/"
        },
        "id": "Kh553lKMcyrJ",
        "outputId": "597ee69a-0692-43b0-f7b5-b0e252e6a1e6"
      },
      "execution_count": 72,
      "outputs": [
        {
          "output_type": "execute_result",
          "data": {
            "text/plain": [
              "BaggingClassifier(base_estimator=DecisionTreeClassifier(criterion='entropy'),\n",
              "                  max_features=7, n_estimators=30, n_jobs=-1)"
            ]
          },
          "metadata": {},
          "execution_count": 72
        }
      ]
    },
    {
      "cell_type": "code",
      "source": [
        "randomSubPredict = randomSubspacesClf.predict(music_test_features)\n",
        "randomSubScore = accuracy_score(music_test_labels, randomSubPredict)\n",
        "randomSubScore"
      ],
      "metadata": {
        "colab": {
          "base_uri": "https://localhost:8080/"
        },
        "id": "2QcSvlOjc7t_",
        "outputId": "5b57d940-5b87-4811-a63f-af0c77346f5b"
      },
      "execution_count": 73,
      "outputs": [
        {
          "output_type": "execute_result",
          "data": {
            "text/plain": [
              "0.7782782782782782"
            ]
          },
          "metadata": {},
          "execution_count": 73
        }
      ]
    },
    {
      "cell_type": "markdown",
      "source": [
        "### Best accuracy I can get"
      ],
      "metadata": {
        "id": "LyZUx8aha8mo"
      }
    },
    {
      "cell_type": "markdown",
      "source": [
        "After a little experimenting, the highest accuracy I could get was 84.33%, which is a result of my bagging classifier with 100 estimators and a max sample size of 60%. "
      ],
      "metadata": {
        "id": "a-prbADLa_he"
      }
    },
    {
      "cell_type": "markdown",
      "metadata": {
        "id": "MP2mAHhTWb6i"
      },
      "source": [
        "\n",
        "##<font color='#52BE80'>NOTES</font>\n",
        "\n",
        "### Breast Cancer Database\n",
        "\n",
        "[back](#Wisconsin-Cancer-Dataset)\n",
        "\n",
        "  This breast cancer databases was obtained from the University of Wisconsin\n",
        "   Hospitals, Madison from Dr. William H. Wolberg.  If you publish results\n",
        "   when using this database, then please include this information in your\n",
        "   acknowledgements.  Also, please cite one or more of:\n",
        "\n",
        "   1. O. L. Mangasarian and W. H. Wolberg: \"Cancer diagnosis via linear \n",
        "      programming\", SIAM News, Volume 23, Number 5, September 1990, pp 1 & 18.\n",
        "\n",
        "   2. William H. Wolberg and O.L. Mangasarian: \"Multisurface method of \n",
        "      pattern separation for medical diagnosis applied to breast cytology\", \n",
        "      Proceedings of the National Academy of Sciences, U.S.A., Volume 87, \n",
        "      December 1990, pp 9193-9196.\n",
        "\n",
        "   3. O. L. Mangasarian, R. Setiono, and W.H. Wolberg: \"Pattern recognition \n",
        "      via linear programming: Theory and application to medical diagnosis\", \n",
        "      in: \"Large-scale numerical optimization\", Thomas F. Coleman and Yuying\n",
        "      Li, editors, SIAM Publications, Philadelphia 1990, pp 22-30.\n",
        "\n",
        "   4. K. P. Bennett & O. L. Mangasarian: \"Robust linear programming \n",
        "      discrimination of two linearly inseparable sets\", Optimization Methods\n",
        "      and Software 1, 1992, 23-34 (Gordon & Breach Science Publishers).\n",
        "\n",
        "Title: Wisconsin Breast Cancer Database (January 8, 1991)\n",
        "\n",
        "\n",
        "Sources:\n",
        "   -- Dr. WIlliam H. Wolberg (physician)\n",
        "      University of Wisconsin Hospitals\n",
        "      Madison, Wisconsin\n",
        "      USA\n",
        "   -- Donor: Olvi Mangasarian (mangasarian@cs.wisc.edu)\n",
        "      Received by David W. Aha (aha@cs.jhu.edu)\n",
        "   -- Date: 15 July 1992"
      ]
    },
    {
      "cell_type": "code",
      "execution_count": null,
      "metadata": {
        "id": "Z4yT3Ci2Wb6i"
      },
      "outputs": [],
      "source": []
    }
  ],
  "metadata": {
    "colab": {
      "provenance": [],
      "include_colab_link": true
    },
    "kernelspec": {
      "display_name": "Python 3 (ipykernel)",
      "language": "python",
      "name": "python3"
    },
    "language_info": {
      "codemirror_mode": {
        "name": "ipython",
        "version": 3
      },
      "file_extension": ".py",
      "mimetype": "text/x-python",
      "name": "python",
      "nbconvert_exporter": "python",
      "pygments_lexer": "ipython3",
      "version": "3.9.12"
    }
  },
  "nbformat": 4,
  "nbformat_minor": 0
}