{
  "nbformat": 4,
  "nbformat_minor": 0,
  "metadata": {
    "colab": {
      "provenance": [],
      "gpuType": "T4",
      "collapsed_sections": [
        "_1zJfTn_q2wt",
        "oBNJTyrwt-sb"
      ],
      "authorship_tag": "ABX9TyMaZyAYD3VFIK3MqXtOTh8F",
      "include_colab_link": true
    },
    "kernelspec": {
      "name": "python3",
      "display_name": "Python 3"
    },
    "language_info": {
      "name": "python"
    },
    "accelerator": "GPU",
    "gpuClass": "standard"
  },
  "cells": [
    {
      "cell_type": "markdown",
      "metadata": {
        "id": "view-in-github",
        "colab_type": "text"
      },
      "source": [
        "<a href=\"https://colab.research.google.com/github/cortiz313/Machine-Learning-Class/blob/main/projects/Crate_and_Barrel_Project_Final.ipynb\" target=\"_parent\"><img src=\"https://colab.research.google.com/assets/colab-badge.svg\" alt=\"Open In Colab\"/></a>"
      ]
    },
    {
      "cell_type": "markdown",
      "source": [
        "# Crate and Barrel Project\n",
        "By: Christian Ortiz and Sejal Nathu-Hari\n",
        "\n",
        "Note: We did most of the work in collaboration at the same time, bouncing ideas off of one another and doing research together, so there wasn't much separation in the work. We did it all together."
      ],
      "metadata": {
        "id": "uNFbJFcRqvMB"
      }
    },
    {
      "cell_type": "markdown",
      "source": [
        "## Approach #1 XGBoost (Worst Result = 32.276)"
      ],
      "metadata": {
        "id": "_1zJfTn_q2wt"
      }
    },
    {
      "cell_type": "markdown",
      "source": [
        "This approach did not work well, and left us with a 32.276 score on Kaggle\n",
        "\n",
        "We knew we needed much lower, closer to 0.8, so we tried a different approach after this.\n",
        "\n",
        "However, this first approach did give us a good insight into the data and helped us with the second approach\n",
        "\n",
        "Below is the work we did for this first approach"
      ],
      "metadata": {
        "id": "y8TOkw15q62V"
      }
    },
    {
      "cell_type": "markdown",
      "source": [
        "### Setting Up The Environment"
      ],
      "metadata": {
        "id": "PNFnFXT5rxtn"
      }
    },
    {
      "cell_type": "markdown",
      "source": [
        "We need to import several libraries in order to follow this approach"
      ],
      "metadata": {
        "id": "l9tj9CmUr6Fo"
      }
    },
    {
      "cell_type": "code",
      "source": [
        "# Importing necessary data analysis libraries\n",
        "from pandas import DataFrame, Series    # For creating and manipulating data frames and series\n",
        "import pandas as pd    # For data manipulation and analysis\n",
        "import numpy as np    # For numerical computing and mathematical operations\n",
        "\n",
        "# Importing necessary machine learning libraries\n",
        "from sklearn.model_selection import train_test_split    # For splitting the data into training and testing sets\n",
        "from sklearn.preprocessing import LabelEncoder    # For label encoding categorical variables\n",
        "from sklearn.preprocessing import OneHotEncoder    # For one-hot encoding categorical variables\n",
        "from sklearn import tree    # For decision tree learning\n",
        "from sklearn.model_selection import GridSearchCV    # For performing grid search cross-validation\n",
        "from xgboost import XGBClassifier    # For implementing the XGBoost algorithm\n",
        "from sklearn.model_selection import StratifiedKFold    # For performing k-fold cross-validation\n",
        "from sklearn.model_selection import RandomizedSearchCV    # For performing randomized search cross-validation\n",
        "from sklearn.preprocessing import StandardScaler    # For standardizing numerical variables\n",
        "from sklearn.discriminant_analysis import LinearDiscriminantAnalysis    # For linear discriminant analysis\n",
        "from sklearn.metrics import accuracy_score    # For evaluating the accuracy of the model\n",
        "from sklearn.metrics import log_loss    # For evaluating the log loss of the model"
      ],
      "metadata": {
        "id": "pyTi4hXvrvnx"
      },
      "execution_count": 4,
      "outputs": []
    },
    {
      "cell_type": "markdown",
      "source": [
        "### Reading the Data"
      ],
      "metadata": {
        "id": "Tvbz6OzssS5b"
      }
    },
    {
      "cell_type": "markdown",
      "source": [
        "Now we will read into our training and test variables and take a look at the data"
      ],
      "metadata": {
        "id": "MRG7yah4sVqx"
      }
    },
    {
      "cell_type": "code",
      "source": [
        "# Read the test data into a variable test\n",
        "test = pd.read_csv('test.csv')\n",
        "\n",
        "# Read the train data into a variable train\n",
        "train = pd.read_csv('train.csv')"
      ],
      "metadata": {
        "id": "Bp9ZHqyTr3Bf"
      },
      "execution_count": 5,
      "outputs": []
    },
    {
      "cell_type": "markdown",
      "source": [
        "Below we look at a description of the data"
      ],
      "metadata": {
        "id": "emCdsQhLt3p1"
      }
    },
    {
      "cell_type": "code",
      "source": [
        "# gives a description of the data with stats\n",
        "train.describe()"
      ],
      "metadata": {
        "id": "cbshCdDSsc1o"
      },
      "execution_count": null,
      "outputs": []
    },
    {
      "cell_type": "code",
      "source": [
        "test.describe()"
      ],
      "metadata": {
        "id": "uqzH4rKBsfEK"
      },
      "execution_count": null,
      "outputs": []
    },
    {
      "cell_type": "markdown",
      "source": [
        "Below we take a look at the actual data"
      ],
      "metadata": {
        "id": "CuCKWIyWt0z9"
      }
    },
    {
      "cell_type": "code",
      "source": [
        "# take a look at the first few of the actual data\n",
        "train.head()"
      ],
      "metadata": {
        "id": "O-05YrLDshJg"
      },
      "execution_count": null,
      "outputs": []
    },
    {
      "cell_type": "code",
      "source": [
        "test.head()"
      ],
      "metadata": {
        "id": "tGZ3-QT2sjFO"
      },
      "execution_count": null,
      "outputs": []
    },
    {
      "cell_type": "markdown",
      "source": [
        "### Preparing the Test and Train data"
      ],
      "metadata": {
        "id": "oBNJTyrwt-sb"
      }
    },
    {
      "cell_type": "markdown",
      "source": [
        "Now we will start separating the data into data structures we can work with in our classifying steps"
      ],
      "metadata": {
        "id": "cwrf2viVuBzb"
      }
    },
    {
      "cell_type": "code",
      "source": [
        "# Creating a new data frame with all features except the target variable\n",
        "trainF = train.drop('target', axis=1)\n",
        "\n",
        "# Creating a new data frame with only the target variable\n",
        "trainL = train['target']\n",
        "\n",
        "# Creating a list of the unique classes in the target variable\n",
        "classes = np.unique(trainL)"
      ],
      "metadata": {
        "id": "7OhpO9ZCuJ5X"
      },
      "execution_count": 10,
      "outputs": []
    },
    {
      "cell_type": "code",
      "source": [
        "# taking a look at the classes\n",
        "classes"
      ],
      "metadata": {
        "colab": {
          "base_uri": "https://localhost:8080/"
        },
        "id": "mMoAhh16ulfg",
        "outputId": "e924b11b-488d-4f8e-bcd6-9c75db5ff833"
      },
      "execution_count": 11,
      "outputs": [
        {
          "output_type": "execute_result",
          "data": {
            "text/plain": [
              "array(['Class_1', 'Class_2', 'Class_3', 'Class_4', 'Class_5', 'Class_6',\n",
              "       'Class_7', 'Class_8', 'Class_9'], dtype=object)"
            ]
          },
          "metadata": {},
          "execution_count": 11
        }
      ]
    },
    {
      "cell_type": "code",
      "source": [
        "# putting the test ids in their own data frame\n",
        "testIDs=test['id'];"
      ],
      "metadata": {
        "id": "3zNHBMzIurqt"
      },
      "execution_count": 12,
      "outputs": []
    },
    {
      "cell_type": "markdown",
      "source": [
        "Here we split the training data into training and validation sets for training the model later"
      ],
      "metadata": {
        "id": "crL5reXgu0Yz"
      }
    },
    {
      "cell_type": "code",
      "source": [
        "# Splitting the data into training and validation sets\n",
        "train_features,valid_features,train_labels,valid_labels = train_test_split(trainF,trainL, test_size=0.2)"
      ],
      "metadata": {
        "id": "HC0piWSsu0Ff"
      },
      "execution_count": 13,
      "outputs": []
    },
    {
      "cell_type": "markdown",
      "source": [
        "Below I drop the id column from the features of both"
      ],
      "metadata": {
        "id": "0zUWC7_OvVOK"
      }
    },
    {
      "cell_type": "code",
      "source": [
        "train_features = train_features.drop('id', axis=1)"
      ],
      "metadata": {
        "id": "7hCAeV_OvM9u"
      },
      "execution_count": 14,
      "outputs": []
    },
    {
      "cell_type": "code",
      "source": [
        "valid_features = valid_features.drop('id', axis=1)"
      ],
      "metadata": {
        "id": "COT6A594vOx0"
      },
      "execution_count": 15,
      "outputs": []
    },
    {
      "cell_type": "markdown",
      "source": [
        "The code below was just to check if there where any features where the value was less than 0, we didn't find any"
      ],
      "metadata": {
        "id": "2ayPrw4hvio5"
      }
    },
    {
      "cell_type": "code",
      "source": [
        "if np.any(train_features < 0):\n",
        "    print(\"The numpy array contains negative numbers.\")\n",
        "else:\n",
        "    print(\"The numpy array does not contain negative numbers.\")"
      ],
      "metadata": {
        "colab": {
          "base_uri": "https://localhost:8080/"
        },
        "id": "fry4WQvpviOY",
        "outputId": "a4cd5308-96d2-406c-c7b9-dc6cfafab16c"
      },
      "execution_count": 17,
      "outputs": [
        {
          "output_type": "stream",
          "name": "stdout",
          "text": [
            "The numpy array does not contain negative numbers.\n"
          ]
        }
      ]
    },
    {
      "cell_type": "markdown",
      "source": [
        "Here we scale the feature values from 0 to 1 for better processing"
      ],
      "metadata": {
        "id": "eCeod1SHvy3Z"
      }
    },
    {
      "cell_type": "code",
      "source": [
        "# Creating a StandardScaler object to scale the features\n",
        "scaler = StandardScaler()\n",
        "\n",
        "# Scaling the training features using the scaler object\n",
        "train_features = scaler.fit_transform(train_features)\n",
        "\n",
        "# Scaling the validation features using the scaler object\n",
        "valid_features = scaler.transform(valid_features)"
      ],
      "metadata": {
        "id": "tflRr0rzvvef"
      },
      "execution_count": 18,
      "outputs": []
    },
    {
      "cell_type": "code",
      "source": [
        "# taking a look at the data again\n",
        "valid_features.shape"
      ],
      "metadata": {
        "colab": {
          "base_uri": "https://localhost:8080/"
        },
        "id": "bDrnK6qDwA3q",
        "outputId": "6bd7a6b9-5c6b-49ae-ffc0-f17ff6436d76"
      },
      "execution_count": 19,
      "outputs": [
        {
          "output_type": "execute_result",
          "data": {
            "text/plain": [
              "(12376, 93)"
            ]
          },
          "metadata": {},
          "execution_count": 19
        }
      ]
    },
    {
      "cell_type": "code",
      "source": [
        "train_features.shape"
      ],
      "metadata": {
        "colab": {
          "base_uri": "https://localhost:8080/"
        },
        "id": "SPtPYHumwB_I",
        "outputId": "95163bc5-2fd2-46fc-b050-24b4b8ac983d"
      },
      "execution_count": 20,
      "outputs": [
        {
          "output_type": "execute_result",
          "data": {
            "text/plain": [
              "(49502, 93)"
            ]
          },
          "metadata": {},
          "execution_count": 20
        }
      ]
    },
    {
      "cell_type": "markdown",
      "source": [
        "We want to use the classes dataframe later so here we sort them out"
      ],
      "metadata": {
        "id": "2pCGDsXxwJxC"
      }
    },
    {
      "cell_type": "code",
      "source": [
        "# Creating a data frame with the count of each class in the training labels\n",
        "unsorted_classes = pd.DataFrame(train_labels.value_counts())\n",
        "\n",
        "# Sorting the classes in ascending order and assigning the result to a new data frame\n",
        "sorted_classes = unsorted_classes.sort_index(axis=0)\n",
        "\n",
        "# Getting the list of sorted class names from the index of the sorted_classes data frame\n",
        "sorted_classes.index"
      ],
      "metadata": {
        "colab": {
          "base_uri": "https://localhost:8080/"
        },
        "id": "66ErQ24GwRsV",
        "outputId": "4042ab2a-3e3d-446e-ee40-4163e2933984"
      },
      "execution_count": 21,
      "outputs": [
        {
          "output_type": "execute_result",
          "data": {
            "text/plain": [
              "Index(['Class_1', 'Class_2', 'Class_3', 'Class_4', 'Class_5', 'Class_6',\n",
              "       'Class_7', 'Class_8', 'Class_9'],\n",
              "      dtype='object')"
            ]
          },
          "metadata": {},
          "execution_count": 21
        }
      ]
    },
    {
      "cell_type": "markdown",
      "source": [
        "### Encoding the data"
      ],
      "metadata": {
        "id": "DWxbxzrLxCfA"
      }
    },
    {
      "cell_type": "markdown",
      "source": [
        "Now we will encode the labels so they work with the XGBoost model later"
      ],
      "metadata": {
        "id": "VE4yCie5xES-"
      }
    },
    {
      "cell_type": "code",
      "source": [
        "# Creating a LabelEncoder object to encode the labels\n",
        "le = LabelEncoder()\n",
        "\n",
        "# Encoding the training labels using the LabelEncoder object\n",
        "train_labels_le = le.fit_transform(train_labels)\n",
        "\n",
        "# Encoding the validation labels using the LabelEncoder object\n",
        "valid_labels_le = le.transform(valid_labels)"
      ],
      "metadata": {
        "id": "P_kRTJIKw6aY"
      },
      "execution_count": 22,
      "outputs": []
    },
    {
      "cell_type": "markdown",
      "source": [],
      "metadata": {
        "id": "W2fE-cRpvgo7"
      }
    },
    {
      "cell_type": "markdown",
      "source": [
        "### Creating and fitting the model"
      ],
      "metadata": {
        "id": "nCzmJkrqxY-1"
      }
    },
    {
      "cell_type": "markdown",
      "source": [
        "Now we will create the model and fit it with our data"
      ],
      "metadata": {
        "id": "BR7zvJvUxe1D"
      }
    },
    {
      "cell_type": "markdown",
      "source": [
        "Below we set the hyperparameters of the model. We performed some tests previously with RandomSearch, and found n_estimators = 400 and max_depth = 8 to be the best hyperparameters. We found the objective through research online."
      ],
      "metadata": {
        "id": "yYliIPSaxmSg"
      }
    },
    {
      "cell_type": "code",
      "source": [
        "# Setting the parameters for the XGBoost classifier\n",
        "params = {'tree_method':'gpu_hist', 'predictor':'gpu_predictor', 'n_estimators': 500, 'max_depth' : 8,  'objective':'multi:softprob'}\n",
        "\n",
        "# Creating a new XGBoost classifier object with the specified parameters\n",
        "model = XGBClassifier(**params)"
      ],
      "metadata": {
        "id": "sQzlq7Jsxj2S"
      },
      "execution_count": 23,
      "outputs": []
    },
    {
      "cell_type": "markdown",
      "source": [
        "Below we fit the model"
      ],
      "metadata": {
        "id": "Ukw3-VXIyJPM"
      }
    },
    {
      "cell_type": "code",
      "source": [
        "# Fitting the XGBoost classifier to the training data\n",
        "model.fit(train_features, train_labels_le)"
      ],
      "metadata": {
        "colab": {
          "base_uri": "https://localhost:8080/",
          "height": 248
        },
        "id": "RDu0F4fTyHgK",
        "outputId": "0ea5b6c3-1ae9-4fac-be16-7679ebdf0b02"
      },
      "execution_count": 24,
      "outputs": [
        {
          "output_type": "execute_result",
          "data": {
            "text/plain": [
              "XGBClassifier(base_score=None, booster=None, callbacks=None,\n",
              "              colsample_bylevel=None, colsample_bynode=None,\n",
              "              colsample_bytree=None, early_stopping_rounds=None,\n",
              "              enable_categorical=False, eval_metric=None, feature_types=None,\n",
              "              gamma=None, gpu_id=None, grow_policy=None, importance_type=None,\n",
              "              interaction_constraints=None, learning_rate=None, max_bin=None,\n",
              "              max_cat_threshold=None, max_cat_to_onehot=None,\n",
              "              max_delta_step=None, max_depth=8, max_leaves=None,\n",
              "              min_child_weight=None, missing=nan, monotone_constraints=None,\n",
              "              n_estimators=500, n_jobs=None, num_parallel_tree=None,\n",
              "              objective='multi:softprob', predictor='gpu_predictor', ...)"
            ],
            "text/html": [
              "<style>#sk-container-id-1 {color: black;background-color: white;}#sk-container-id-1 pre{padding: 0;}#sk-container-id-1 div.sk-toggleable {background-color: white;}#sk-container-id-1 label.sk-toggleable__label {cursor: pointer;display: block;width: 100%;margin-bottom: 0;padding: 0.3em;box-sizing: border-box;text-align: center;}#sk-container-id-1 label.sk-toggleable__label-arrow:before {content: \"▸\";float: left;margin-right: 0.25em;color: #696969;}#sk-container-id-1 label.sk-toggleable__label-arrow:hover:before {color: black;}#sk-container-id-1 div.sk-estimator:hover label.sk-toggleable__label-arrow:before {color: black;}#sk-container-id-1 div.sk-toggleable__content {max-height: 0;max-width: 0;overflow: hidden;text-align: left;background-color: #f0f8ff;}#sk-container-id-1 div.sk-toggleable__content pre {margin: 0.2em;color: black;border-radius: 0.25em;background-color: #f0f8ff;}#sk-container-id-1 input.sk-toggleable__control:checked~div.sk-toggleable__content {max-height: 200px;max-width: 100%;overflow: auto;}#sk-container-id-1 input.sk-toggleable__control:checked~label.sk-toggleable__label-arrow:before {content: \"▾\";}#sk-container-id-1 div.sk-estimator input.sk-toggleable__control:checked~label.sk-toggleable__label {background-color: #d4ebff;}#sk-container-id-1 div.sk-label input.sk-toggleable__control:checked~label.sk-toggleable__label {background-color: #d4ebff;}#sk-container-id-1 input.sk-hidden--visually {border: 0;clip: rect(1px 1px 1px 1px);clip: rect(1px, 1px, 1px, 1px);height: 1px;margin: -1px;overflow: hidden;padding: 0;position: absolute;width: 1px;}#sk-container-id-1 div.sk-estimator {font-family: monospace;background-color: #f0f8ff;border: 1px dotted black;border-radius: 0.25em;box-sizing: border-box;margin-bottom: 0.5em;}#sk-container-id-1 div.sk-estimator:hover {background-color: #d4ebff;}#sk-container-id-1 div.sk-parallel-item::after {content: \"\";width: 100%;border-bottom: 1px solid gray;flex-grow: 1;}#sk-container-id-1 div.sk-label:hover label.sk-toggleable__label {background-color: #d4ebff;}#sk-container-id-1 div.sk-serial::before {content: \"\";position: absolute;border-left: 1px solid gray;box-sizing: border-box;top: 0;bottom: 0;left: 50%;z-index: 0;}#sk-container-id-1 div.sk-serial {display: flex;flex-direction: column;align-items: center;background-color: white;padding-right: 0.2em;padding-left: 0.2em;position: relative;}#sk-container-id-1 div.sk-item {position: relative;z-index: 1;}#sk-container-id-1 div.sk-parallel {display: flex;align-items: stretch;justify-content: center;background-color: white;position: relative;}#sk-container-id-1 div.sk-item::before, #sk-container-id-1 div.sk-parallel-item::before {content: \"\";position: absolute;border-left: 1px solid gray;box-sizing: border-box;top: 0;bottom: 0;left: 50%;z-index: -1;}#sk-container-id-1 div.sk-parallel-item {display: flex;flex-direction: column;z-index: 1;position: relative;background-color: white;}#sk-container-id-1 div.sk-parallel-item:first-child::after {align-self: flex-end;width: 50%;}#sk-container-id-1 div.sk-parallel-item:last-child::after {align-self: flex-start;width: 50%;}#sk-container-id-1 div.sk-parallel-item:only-child::after {width: 0;}#sk-container-id-1 div.sk-dashed-wrapped {border: 1px dashed gray;margin: 0 0.4em 0.5em 0.4em;box-sizing: border-box;padding-bottom: 0.4em;background-color: white;}#sk-container-id-1 div.sk-label label {font-family: monospace;font-weight: bold;display: inline-block;line-height: 1.2em;}#sk-container-id-1 div.sk-label-container {text-align: center;}#sk-container-id-1 div.sk-container {/* jupyter's `normalize.less` sets `[hidden] { display: none; }` but bootstrap.min.css set `[hidden] { display: none !important; }` so we also need the `!important` here to be able to override the default hidden behavior on the sphinx rendered scikit-learn.org. See: https://github.com/scikit-learn/scikit-learn/issues/21755 */display: inline-block !important;position: relative;}#sk-container-id-1 div.sk-text-repr-fallback {display: none;}</style><div id=\"sk-container-id-1\" class=\"sk-top-container\"><div class=\"sk-text-repr-fallback\"><pre>XGBClassifier(base_score=None, booster=None, callbacks=None,\n",
              "              colsample_bylevel=None, colsample_bynode=None,\n",
              "              colsample_bytree=None, early_stopping_rounds=None,\n",
              "              enable_categorical=False, eval_metric=None, feature_types=None,\n",
              "              gamma=None, gpu_id=None, grow_policy=None, importance_type=None,\n",
              "              interaction_constraints=None, learning_rate=None, max_bin=None,\n",
              "              max_cat_threshold=None, max_cat_to_onehot=None,\n",
              "              max_delta_step=None, max_depth=8, max_leaves=None,\n",
              "              min_child_weight=None, missing=nan, monotone_constraints=None,\n",
              "              n_estimators=500, n_jobs=None, num_parallel_tree=None,\n",
              "              objective=&#x27;multi:softprob&#x27;, predictor=&#x27;gpu_predictor&#x27;, ...)</pre><b>In a Jupyter environment, please rerun this cell to show the HTML representation or trust the notebook. <br />On GitHub, the HTML representation is unable to render, please try loading this page with nbviewer.org.</b></div><div class=\"sk-container\" hidden><div class=\"sk-item\"><div class=\"sk-estimator sk-toggleable\"><input class=\"sk-toggleable__control sk-hidden--visually\" id=\"sk-estimator-id-1\" type=\"checkbox\" checked><label for=\"sk-estimator-id-1\" class=\"sk-toggleable__label sk-toggleable__label-arrow\">XGBClassifier</label><div class=\"sk-toggleable__content\"><pre>XGBClassifier(base_score=None, booster=None, callbacks=None,\n",
              "              colsample_bylevel=None, colsample_bynode=None,\n",
              "              colsample_bytree=None, early_stopping_rounds=None,\n",
              "              enable_categorical=False, eval_metric=None, feature_types=None,\n",
              "              gamma=None, gpu_id=None, grow_policy=None, importance_type=None,\n",
              "              interaction_constraints=None, learning_rate=None, max_bin=None,\n",
              "              max_cat_threshold=None, max_cat_to_onehot=None,\n",
              "              max_delta_step=None, max_depth=8, max_leaves=None,\n",
              "              min_child_weight=None, missing=nan, monotone_constraints=None,\n",
              "              n_estimators=500, n_jobs=None, num_parallel_tree=None,\n",
              "              objective=&#x27;multi:softprob&#x27;, predictor=&#x27;gpu_predictor&#x27;, ...)</pre></div></div></div></div></div>"
            ]
          },
          "metadata": {},
          "execution_count": 24
        }
      ]
    },
    {
      "cell_type": "markdown",
      "source": [
        "### Validation Predictions"
      ],
      "metadata": {
        "id": "WidzroZCyVXl"
      }
    },
    {
      "cell_type": "markdown",
      "source": [
        "Now we will check the predictions and accuracy on our validation data "
      ],
      "metadata": {
        "id": "Hr6MmemZyWge"
      }
    },
    {
      "cell_type": "code",
      "source": [
        "# Using the trained XGBoost classifier to predict the labels for the validation features\n",
        "valid_predictions = model.predict(valid_features)"
      ],
      "metadata": {
        "id": "KOglqklRyUrN"
      },
      "execution_count": 25,
      "outputs": []
    },
    {
      "cell_type": "code",
      "source": [
        "# Calculating the accuracy score of the XGBoost classifier on the validation data\n",
        "print('Accuracy Score = ', accuracy_score(valid_labels_le,valid_predictions))"
      ],
      "metadata": {
        "colab": {
          "base_uri": "https://localhost:8080/"
        },
        "id": "4l2nYo8KyvcG",
        "outputId": "40ce41e9-f4b1-45aa-cb86-a40f5bb06796"
      },
      "execution_count": 26,
      "outputs": [
        {
          "output_type": "stream",
          "name": "stdout",
          "text": [
            "Accuracy Score =  0.8278118939883645\n"
          ]
        }
      ]
    },
    {
      "cell_type": "markdown",
      "source": [
        "We got an 82.78% accuracy on our validation data"
      ],
      "metadata": {
        "id": "44GmAqZ9y30a"
      }
    },
    {
      "cell_type": "markdown",
      "source": [
        "### Final Predictions"
      ],
      "metadata": {
        "id": "gz88oc1CzFtM"
      }
    },
    {
      "cell_type": "markdown",
      "source": [
        "Now we will get the predictions on our test data, and set up our final dataframe with all this information so it can be output as a CSV file"
      ],
      "metadata": {
        "id": "0t2yjflMzIOB"
      }
    },
    {
      "cell_type": "code",
      "source": [
        "# Removing the 'id' column from the test data\n",
        "# We do this so we can transform the data, we will add the ids back later with the testIDs dataframe\n",
        "test.drop('id', axis=1, inplace=True)"
      ],
      "metadata": {
        "id": "hqCQV86EzR2O"
      },
      "execution_count": 27,
      "outputs": []
    },
    {
      "cell_type": "markdown",
      "source": [
        "We now scale the test features in the same way we did with the training_features"
      ],
      "metadata": {
        "id": "clinB_p8zmbW"
      }
    },
    {
      "cell_type": "code",
      "source": [
        "# Scaling the test data using the trained StandardScaler\n",
        "test = scaler.transform(test)"
      ],
      "metadata": {
        "id": "2te3s4Uazg4M"
      },
      "execution_count": 28,
      "outputs": []
    },
    {
      "cell_type": "markdown",
      "source": [
        "Below we use our model to predict the test data, and immediately put that into a dataframe"
      ],
      "metadata": {
        "id": "Ldbnfx9Kzwm0"
      }
    },
    {
      "cell_type": "code",
      "source": [
        "# Creating a DataFrame to store the test data predictions\n",
        "predictions_df = pd.DataFrame(model.predict(test))"
      ],
      "metadata": {
        "id": "htmOX3xfzwAU"
      },
      "execution_count": 30,
      "outputs": []
    },
    {
      "cell_type": "markdown",
      "source": [
        "Now we take a look at the dataframe to see what it looks like"
      ],
      "metadata": {
        "id": "VXxwETbm0clc"
      }
    },
    {
      "cell_type": "code",
      "source": [
        "# Displaying the first few rows of the predictions DataFrame\n",
        "predictions_df.head()"
      ],
      "metadata": {
        "colab": {
          "base_uri": "https://localhost:8080/",
          "height": 206
        },
        "id": "8wjga-V20Rs2",
        "outputId": "5523cfbc-d551-45a0-8015-44adaa056416"
      },
      "execution_count": 31,
      "outputs": [
        {
          "output_type": "execute_result",
          "data": {
            "text/plain": [
              "   0\n",
              "0  3\n",
              "1  7\n",
              "2  5\n",
              "3  1\n",
              "4  8"
            ],
            "text/html": [
              "\n",
              "  <div id=\"df-c1964625-b41e-44fb-9591-402a197b340b\">\n",
              "    <div class=\"colab-df-container\">\n",
              "      <div>\n",
              "<style scoped>\n",
              "    .dataframe tbody tr th:only-of-type {\n",
              "        vertical-align: middle;\n",
              "    }\n",
              "\n",
              "    .dataframe tbody tr th {\n",
              "        vertical-align: top;\n",
              "    }\n",
              "\n",
              "    .dataframe thead th {\n",
              "        text-align: right;\n",
              "    }\n",
              "</style>\n",
              "<table border=\"1\" class=\"dataframe\">\n",
              "  <thead>\n",
              "    <tr style=\"text-align: right;\">\n",
              "      <th></th>\n",
              "      <th>0</th>\n",
              "    </tr>\n",
              "  </thead>\n",
              "  <tbody>\n",
              "    <tr>\n",
              "      <th>0</th>\n",
              "      <td>3</td>\n",
              "    </tr>\n",
              "    <tr>\n",
              "      <th>1</th>\n",
              "      <td>7</td>\n",
              "    </tr>\n",
              "    <tr>\n",
              "      <th>2</th>\n",
              "      <td>5</td>\n",
              "    </tr>\n",
              "    <tr>\n",
              "      <th>3</th>\n",
              "      <td>1</td>\n",
              "    </tr>\n",
              "    <tr>\n",
              "      <th>4</th>\n",
              "      <td>8</td>\n",
              "    </tr>\n",
              "  </tbody>\n",
              "</table>\n",
              "</div>\n",
              "      <button class=\"colab-df-convert\" onclick=\"convertToInteractive('df-c1964625-b41e-44fb-9591-402a197b340b')\"\n",
              "              title=\"Convert this dataframe to an interactive table.\"\n",
              "              style=\"display:none;\">\n",
              "        \n",
              "  <svg xmlns=\"http://www.w3.org/2000/svg\" height=\"24px\"viewBox=\"0 0 24 24\"\n",
              "       width=\"24px\">\n",
              "    <path d=\"M0 0h24v24H0V0z\" fill=\"none\"/>\n",
              "    <path d=\"M18.56 5.44l.94 2.06.94-2.06 2.06-.94-2.06-.94-.94-2.06-.94 2.06-2.06.94zm-11 1L8.5 8.5l.94-2.06 2.06-.94-2.06-.94L8.5 2.5l-.94 2.06-2.06.94zm10 10l.94 2.06.94-2.06 2.06-.94-2.06-.94-.94-2.06-.94 2.06-2.06.94z\"/><path d=\"M17.41 7.96l-1.37-1.37c-.4-.4-.92-.59-1.43-.59-.52 0-1.04.2-1.43.59L10.3 9.45l-7.72 7.72c-.78.78-.78 2.05 0 2.83L4 21.41c.39.39.9.59 1.41.59.51 0 1.02-.2 1.41-.59l7.78-7.78 2.81-2.81c.8-.78.8-2.07 0-2.86zM5.41 20L4 18.59l7.72-7.72 1.47 1.35L5.41 20z\"/>\n",
              "  </svg>\n",
              "      </button>\n",
              "      \n",
              "  <style>\n",
              "    .colab-df-container {\n",
              "      display:flex;\n",
              "      flex-wrap:wrap;\n",
              "      gap: 12px;\n",
              "    }\n",
              "\n",
              "    .colab-df-convert {\n",
              "      background-color: #E8F0FE;\n",
              "      border: none;\n",
              "      border-radius: 50%;\n",
              "      cursor: pointer;\n",
              "      display: none;\n",
              "      fill: #1967D2;\n",
              "      height: 32px;\n",
              "      padding: 0 0 0 0;\n",
              "      width: 32px;\n",
              "    }\n",
              "\n",
              "    .colab-df-convert:hover {\n",
              "      background-color: #E2EBFA;\n",
              "      box-shadow: 0px 1px 2px rgba(60, 64, 67, 0.3), 0px 1px 3px 1px rgba(60, 64, 67, 0.15);\n",
              "      fill: #174EA6;\n",
              "    }\n",
              "\n",
              "    [theme=dark] .colab-df-convert {\n",
              "      background-color: #3B4455;\n",
              "      fill: #D2E3FC;\n",
              "    }\n",
              "\n",
              "    [theme=dark] .colab-df-convert:hover {\n",
              "      background-color: #434B5C;\n",
              "      box-shadow: 0px 1px 3px 1px rgba(0, 0, 0, 0.15);\n",
              "      filter: drop-shadow(0px 1px 2px rgba(0, 0, 0, 0.3));\n",
              "      fill: #FFFFFF;\n",
              "    }\n",
              "  </style>\n",
              "\n",
              "      <script>\n",
              "        const buttonEl =\n",
              "          document.querySelector('#df-c1964625-b41e-44fb-9591-402a197b340b button.colab-df-convert');\n",
              "        buttonEl.style.display =\n",
              "          google.colab.kernel.accessAllowed ? 'block' : 'none';\n",
              "\n",
              "        async function convertToInteractive(key) {\n",
              "          const element = document.querySelector('#df-c1964625-b41e-44fb-9591-402a197b340b');\n",
              "          const dataTable =\n",
              "            await google.colab.kernel.invokeFunction('convertToInteractive',\n",
              "                                                     [key], {});\n",
              "          if (!dataTable) return;\n",
              "\n",
              "          const docLinkHtml = 'Like what you see? Visit the ' +\n",
              "            '<a target=\"_blank\" href=https://colab.research.google.com/notebooks/data_table.ipynb>data table notebook</a>'\n",
              "            + ' to learn more about interactive tables.';\n",
              "          element.innerHTML = '';\n",
              "          dataTable['output_type'] = 'display_data';\n",
              "          await google.colab.output.renderOutput(dataTable, element);\n",
              "          const docLink = document.createElement('div');\n",
              "          docLink.innerHTML = docLinkHtml;\n",
              "          element.appendChild(docLink);\n",
              "        }\n",
              "      </script>\n",
              "    </div>\n",
              "  </div>\n",
              "  "
            ]
          },
          "metadata": {},
          "execution_count": 31
        }
      ]
    },
    {
      "cell_type": "markdown",
      "source": [
        "### Setting up DataFrame for export"
      ],
      "metadata": {
        "id": "SxEkZIyK0nno"
      }
    },
    {
      "cell_type": "markdown",
      "source": [
        "Below we will manipulate the dataframes to be ready for export"
      ],
      "metadata": {
        "id": "nIMS8jPO0qV6"
      }
    },
    {
      "cell_type": "markdown",
      "source": [
        "We will One Hot Encode the predictions so we can have a binary assignment of 0 or 1 for each class at each row"
      ],
      "metadata": {
        "id": "pt-n21TM03-v"
      }
    },
    {
      "cell_type": "code",
      "source": [
        "# One-hot encoding the predicted classes\n",
        "df_encoded = pd.get_dummies(predictions_df.iloc[:, 0], prefix='Class')"
      ],
      "metadata": {
        "id": "rMwvlamb0if6"
      },
      "execution_count": 32,
      "outputs": []
    },
    {
      "cell_type": "code",
      "source": [
        "# Reorder the columns to match the column order we want\n",
        "df_encoded = df_encoded.reindex(columns=['Class_1', 'Class_2', 'Class_3', 'Class_4', 'Class_5', 'Class_6', 'Class_7', 'Class_8', 'Class_9'])"
      ],
      "metadata": {
        "id": "xeubxkZw1A8G"
      },
      "execution_count": 33,
      "outputs": []
    },
    {
      "cell_type": "code",
      "source": [
        "df_encoded.head()"
      ],
      "metadata": {
        "colab": {
          "base_uri": "https://localhost:8080/",
          "height": 206
        },
        "id": "lM8P5q2K1Fff",
        "outputId": "d45ec0ad-3d1b-4d7c-a3f2-f8a437347a5f"
      },
      "execution_count": 34,
      "outputs": [
        {
          "output_type": "execute_result",
          "data": {
            "text/plain": [
              "   Class_1  Class_2  Class_3  Class_4  Class_5  Class_6  Class_7  Class_8  \\\n",
              "0        0        0        1        0        0        0        0        0   \n",
              "1        0        0        0        0        0        0        1        0   \n",
              "2        0        0        0        0        1        0        0        0   \n",
              "3        1        0        0        0        0        0        0        0   \n",
              "4        0        0        0        0        0        0        0        1   \n",
              "\n",
              "   Class_9  \n",
              "0      NaN  \n",
              "1      NaN  \n",
              "2      NaN  \n",
              "3      NaN  \n",
              "4      NaN  "
            ],
            "text/html": [
              "\n",
              "  <div id=\"df-59f89c0d-e8ae-448c-9813-6c4a7c2e1ab0\">\n",
              "    <div class=\"colab-df-container\">\n",
              "      <div>\n",
              "<style scoped>\n",
              "    .dataframe tbody tr th:only-of-type {\n",
              "        vertical-align: middle;\n",
              "    }\n",
              "\n",
              "    .dataframe tbody tr th {\n",
              "        vertical-align: top;\n",
              "    }\n",
              "\n",
              "    .dataframe thead th {\n",
              "        text-align: right;\n",
              "    }\n",
              "</style>\n",
              "<table border=\"1\" class=\"dataframe\">\n",
              "  <thead>\n",
              "    <tr style=\"text-align: right;\">\n",
              "      <th></th>\n",
              "      <th>Class_1</th>\n",
              "      <th>Class_2</th>\n",
              "      <th>Class_3</th>\n",
              "      <th>Class_4</th>\n",
              "      <th>Class_5</th>\n",
              "      <th>Class_6</th>\n",
              "      <th>Class_7</th>\n",
              "      <th>Class_8</th>\n",
              "      <th>Class_9</th>\n",
              "    </tr>\n",
              "  </thead>\n",
              "  <tbody>\n",
              "    <tr>\n",
              "      <th>0</th>\n",
              "      <td>0</td>\n",
              "      <td>0</td>\n",
              "      <td>1</td>\n",
              "      <td>0</td>\n",
              "      <td>0</td>\n",
              "      <td>0</td>\n",
              "      <td>0</td>\n",
              "      <td>0</td>\n",
              "      <td>NaN</td>\n",
              "    </tr>\n",
              "    <tr>\n",
              "      <th>1</th>\n",
              "      <td>0</td>\n",
              "      <td>0</td>\n",
              "      <td>0</td>\n",
              "      <td>0</td>\n",
              "      <td>0</td>\n",
              "      <td>0</td>\n",
              "      <td>1</td>\n",
              "      <td>0</td>\n",
              "      <td>NaN</td>\n",
              "    </tr>\n",
              "    <tr>\n",
              "      <th>2</th>\n",
              "      <td>0</td>\n",
              "      <td>0</td>\n",
              "      <td>0</td>\n",
              "      <td>0</td>\n",
              "      <td>1</td>\n",
              "      <td>0</td>\n",
              "      <td>0</td>\n",
              "      <td>0</td>\n",
              "      <td>NaN</td>\n",
              "    </tr>\n",
              "    <tr>\n",
              "      <th>3</th>\n",
              "      <td>1</td>\n",
              "      <td>0</td>\n",
              "      <td>0</td>\n",
              "      <td>0</td>\n",
              "      <td>0</td>\n",
              "      <td>0</td>\n",
              "      <td>0</td>\n",
              "      <td>0</td>\n",
              "      <td>NaN</td>\n",
              "    </tr>\n",
              "    <tr>\n",
              "      <th>4</th>\n",
              "      <td>0</td>\n",
              "      <td>0</td>\n",
              "      <td>0</td>\n",
              "      <td>0</td>\n",
              "      <td>0</td>\n",
              "      <td>0</td>\n",
              "      <td>0</td>\n",
              "      <td>1</td>\n",
              "      <td>NaN</td>\n",
              "    </tr>\n",
              "  </tbody>\n",
              "</table>\n",
              "</div>\n",
              "      <button class=\"colab-df-convert\" onclick=\"convertToInteractive('df-59f89c0d-e8ae-448c-9813-6c4a7c2e1ab0')\"\n",
              "              title=\"Convert this dataframe to an interactive table.\"\n",
              "              style=\"display:none;\">\n",
              "        \n",
              "  <svg xmlns=\"http://www.w3.org/2000/svg\" height=\"24px\"viewBox=\"0 0 24 24\"\n",
              "       width=\"24px\">\n",
              "    <path d=\"M0 0h24v24H0V0z\" fill=\"none\"/>\n",
              "    <path d=\"M18.56 5.44l.94 2.06.94-2.06 2.06-.94-2.06-.94-.94-2.06-.94 2.06-2.06.94zm-11 1L8.5 8.5l.94-2.06 2.06-.94-2.06-.94L8.5 2.5l-.94 2.06-2.06.94zm10 10l.94 2.06.94-2.06 2.06-.94-2.06-.94-.94-2.06-.94 2.06-2.06.94z\"/><path d=\"M17.41 7.96l-1.37-1.37c-.4-.4-.92-.59-1.43-.59-.52 0-1.04.2-1.43.59L10.3 9.45l-7.72 7.72c-.78.78-.78 2.05 0 2.83L4 21.41c.39.39.9.59 1.41.59.51 0 1.02-.2 1.41-.59l7.78-7.78 2.81-2.81c.8-.78.8-2.07 0-2.86zM5.41 20L4 18.59l7.72-7.72 1.47 1.35L5.41 20z\"/>\n",
              "  </svg>\n",
              "      </button>\n",
              "      \n",
              "  <style>\n",
              "    .colab-df-container {\n",
              "      display:flex;\n",
              "      flex-wrap:wrap;\n",
              "      gap: 12px;\n",
              "    }\n",
              "\n",
              "    .colab-df-convert {\n",
              "      background-color: #E8F0FE;\n",
              "      border: none;\n",
              "      border-radius: 50%;\n",
              "      cursor: pointer;\n",
              "      display: none;\n",
              "      fill: #1967D2;\n",
              "      height: 32px;\n",
              "      padding: 0 0 0 0;\n",
              "      width: 32px;\n",
              "    }\n",
              "\n",
              "    .colab-df-convert:hover {\n",
              "      background-color: #E2EBFA;\n",
              "      box-shadow: 0px 1px 2px rgba(60, 64, 67, 0.3), 0px 1px 3px 1px rgba(60, 64, 67, 0.15);\n",
              "      fill: #174EA6;\n",
              "    }\n",
              "\n",
              "    [theme=dark] .colab-df-convert {\n",
              "      background-color: #3B4455;\n",
              "      fill: #D2E3FC;\n",
              "    }\n",
              "\n",
              "    [theme=dark] .colab-df-convert:hover {\n",
              "      background-color: #434B5C;\n",
              "      box-shadow: 0px 1px 3px 1px rgba(0, 0, 0, 0.15);\n",
              "      filter: drop-shadow(0px 1px 2px rgba(0, 0, 0, 0.3));\n",
              "      fill: #FFFFFF;\n",
              "    }\n",
              "  </style>\n",
              "\n",
              "      <script>\n",
              "        const buttonEl =\n",
              "          document.querySelector('#df-59f89c0d-e8ae-448c-9813-6c4a7c2e1ab0 button.colab-df-convert');\n",
              "        buttonEl.style.display =\n",
              "          google.colab.kernel.accessAllowed ? 'block' : 'none';\n",
              "\n",
              "        async function convertToInteractive(key) {\n",
              "          const element = document.querySelector('#df-59f89c0d-e8ae-448c-9813-6c4a7c2e1ab0');\n",
              "          const dataTable =\n",
              "            await google.colab.kernel.invokeFunction('convertToInteractive',\n",
              "                                                     [key], {});\n",
              "          if (!dataTable) return;\n",
              "\n",
              "          const docLinkHtml = 'Like what you see? Visit the ' +\n",
              "            '<a target=\"_blank\" href=https://colab.research.google.com/notebooks/data_table.ipynb>data table notebook</a>'\n",
              "            + ' to learn more about interactive tables.';\n",
              "          element.innerHTML = '';\n",
              "          dataTable['output_type'] = 'display_data';\n",
              "          await google.colab.output.renderOutput(dataTable, element);\n",
              "          const docLink = document.createElement('div');\n",
              "          docLink.innerHTML = docLinkHtml;\n",
              "          element.appendChild(docLink);\n",
              "        }\n",
              "      </script>\n",
              "    </div>\n",
              "  </div>\n",
              "  "
            ]
          },
          "metadata": {},
          "execution_count": 34
        }
      ]
    },
    {
      "cell_type": "markdown",
      "source": [
        "We notice class 9 is full of NaN values, so we check if the previous predictions_df had any predictions of a class 9"
      ],
      "metadata": {
        "id": "0EoI3W4Q1J_5"
      }
    },
    {
      "cell_type": "code",
      "source": [
        "# checking if there is any row with a value of 9\n",
        "if (predictions_df.loc[predictions_df.iloc[:,0] == 9]).any().any():\n",
        "    print(\"At least one row has a value of 9.\")\n",
        "else:\n",
        "    print(\"No row has a value of 9.\")"
      ],
      "metadata": {
        "colab": {
          "base_uri": "https://localhost:8080/"
        },
        "id": "1PFdOA_t1UEp",
        "outputId": "9fc6f33f-b93d-48af-cb50-75e3e5ee1586"
      },
      "execution_count": 35,
      "outputs": [
        {
          "output_type": "stream",
          "name": "stdout",
          "text": [
            "No row has a value of 9.\n"
          ]
        }
      ]
    },
    {
      "cell_type": "markdown",
      "source": [
        "We don't see any, so continue and simply assign all of the NaN values to 0"
      ],
      "metadata": {
        "id": "qkblBznD1W6h"
      }
    },
    {
      "cell_type": "code",
      "source": [
        "# Filling any NaN values with 0\n",
        "df_encoded = df_encoded.fillna(value=0)"
      ],
      "metadata": {
        "id": "YN_Q-wq21WJs"
      },
      "execution_count": 36,
      "outputs": []
    },
    {
      "cell_type": "code",
      "source": [
        "df_encoded.head()"
      ],
      "metadata": {
        "colab": {
          "base_uri": "https://localhost:8080/",
          "height": 206
        },
        "id": "MwMMFWQm1g4G",
        "outputId": "bf8a92b5-2d26-4ae5-8250-0664430e2059"
      },
      "execution_count": 37,
      "outputs": [
        {
          "output_type": "execute_result",
          "data": {
            "text/plain": [
              "   Class_1  Class_2  Class_3  Class_4  Class_5  Class_6  Class_7  Class_8  \\\n",
              "0        0        0        1        0        0        0        0        0   \n",
              "1        0        0        0        0        0        0        1        0   \n",
              "2        0        0        0        0        1        0        0        0   \n",
              "3        1        0        0        0        0        0        0        0   \n",
              "4        0        0        0        0        0        0        0        1   \n",
              "\n",
              "   Class_9  \n",
              "0      0.0  \n",
              "1      0.0  \n",
              "2      0.0  \n",
              "3      0.0  \n",
              "4      0.0  "
            ],
            "text/html": [
              "\n",
              "  <div id=\"df-4a8932ef-8c5a-4bc4-9109-434d6cc61366\">\n",
              "    <div class=\"colab-df-container\">\n",
              "      <div>\n",
              "<style scoped>\n",
              "    .dataframe tbody tr th:only-of-type {\n",
              "        vertical-align: middle;\n",
              "    }\n",
              "\n",
              "    .dataframe tbody tr th {\n",
              "        vertical-align: top;\n",
              "    }\n",
              "\n",
              "    .dataframe thead th {\n",
              "        text-align: right;\n",
              "    }\n",
              "</style>\n",
              "<table border=\"1\" class=\"dataframe\">\n",
              "  <thead>\n",
              "    <tr style=\"text-align: right;\">\n",
              "      <th></th>\n",
              "      <th>Class_1</th>\n",
              "      <th>Class_2</th>\n",
              "      <th>Class_3</th>\n",
              "      <th>Class_4</th>\n",
              "      <th>Class_5</th>\n",
              "      <th>Class_6</th>\n",
              "      <th>Class_7</th>\n",
              "      <th>Class_8</th>\n",
              "      <th>Class_9</th>\n",
              "    </tr>\n",
              "  </thead>\n",
              "  <tbody>\n",
              "    <tr>\n",
              "      <th>0</th>\n",
              "      <td>0</td>\n",
              "      <td>0</td>\n",
              "      <td>1</td>\n",
              "      <td>0</td>\n",
              "      <td>0</td>\n",
              "      <td>0</td>\n",
              "      <td>0</td>\n",
              "      <td>0</td>\n",
              "      <td>0.0</td>\n",
              "    </tr>\n",
              "    <tr>\n",
              "      <th>1</th>\n",
              "      <td>0</td>\n",
              "      <td>0</td>\n",
              "      <td>0</td>\n",
              "      <td>0</td>\n",
              "      <td>0</td>\n",
              "      <td>0</td>\n",
              "      <td>1</td>\n",
              "      <td>0</td>\n",
              "      <td>0.0</td>\n",
              "    </tr>\n",
              "    <tr>\n",
              "      <th>2</th>\n",
              "      <td>0</td>\n",
              "      <td>0</td>\n",
              "      <td>0</td>\n",
              "      <td>0</td>\n",
              "      <td>1</td>\n",
              "      <td>0</td>\n",
              "      <td>0</td>\n",
              "      <td>0</td>\n",
              "      <td>0.0</td>\n",
              "    </tr>\n",
              "    <tr>\n",
              "      <th>3</th>\n",
              "      <td>1</td>\n",
              "      <td>0</td>\n",
              "      <td>0</td>\n",
              "      <td>0</td>\n",
              "      <td>0</td>\n",
              "      <td>0</td>\n",
              "      <td>0</td>\n",
              "      <td>0</td>\n",
              "      <td>0.0</td>\n",
              "    </tr>\n",
              "    <tr>\n",
              "      <th>4</th>\n",
              "      <td>0</td>\n",
              "      <td>0</td>\n",
              "      <td>0</td>\n",
              "      <td>0</td>\n",
              "      <td>0</td>\n",
              "      <td>0</td>\n",
              "      <td>0</td>\n",
              "      <td>1</td>\n",
              "      <td>0.0</td>\n",
              "    </tr>\n",
              "  </tbody>\n",
              "</table>\n",
              "</div>\n",
              "      <button class=\"colab-df-convert\" onclick=\"convertToInteractive('df-4a8932ef-8c5a-4bc4-9109-434d6cc61366')\"\n",
              "              title=\"Convert this dataframe to an interactive table.\"\n",
              "              style=\"display:none;\">\n",
              "        \n",
              "  <svg xmlns=\"http://www.w3.org/2000/svg\" height=\"24px\"viewBox=\"0 0 24 24\"\n",
              "       width=\"24px\">\n",
              "    <path d=\"M0 0h24v24H0V0z\" fill=\"none\"/>\n",
              "    <path d=\"M18.56 5.44l.94 2.06.94-2.06 2.06-.94-2.06-.94-.94-2.06-.94 2.06-2.06.94zm-11 1L8.5 8.5l.94-2.06 2.06-.94-2.06-.94L8.5 2.5l-.94 2.06-2.06.94zm10 10l.94 2.06.94-2.06 2.06-.94-2.06-.94-.94-2.06-.94 2.06-2.06.94z\"/><path d=\"M17.41 7.96l-1.37-1.37c-.4-.4-.92-.59-1.43-.59-.52 0-1.04.2-1.43.59L10.3 9.45l-7.72 7.72c-.78.78-.78 2.05 0 2.83L4 21.41c.39.39.9.59 1.41.59.51 0 1.02-.2 1.41-.59l7.78-7.78 2.81-2.81c.8-.78.8-2.07 0-2.86zM5.41 20L4 18.59l7.72-7.72 1.47 1.35L5.41 20z\"/>\n",
              "  </svg>\n",
              "      </button>\n",
              "      \n",
              "  <style>\n",
              "    .colab-df-container {\n",
              "      display:flex;\n",
              "      flex-wrap:wrap;\n",
              "      gap: 12px;\n",
              "    }\n",
              "\n",
              "    .colab-df-convert {\n",
              "      background-color: #E8F0FE;\n",
              "      border: none;\n",
              "      border-radius: 50%;\n",
              "      cursor: pointer;\n",
              "      display: none;\n",
              "      fill: #1967D2;\n",
              "      height: 32px;\n",
              "      padding: 0 0 0 0;\n",
              "      width: 32px;\n",
              "    }\n",
              "\n",
              "    .colab-df-convert:hover {\n",
              "      background-color: #E2EBFA;\n",
              "      box-shadow: 0px 1px 2px rgba(60, 64, 67, 0.3), 0px 1px 3px 1px rgba(60, 64, 67, 0.15);\n",
              "      fill: #174EA6;\n",
              "    }\n",
              "\n",
              "    [theme=dark] .colab-df-convert {\n",
              "      background-color: #3B4455;\n",
              "      fill: #D2E3FC;\n",
              "    }\n",
              "\n",
              "    [theme=dark] .colab-df-convert:hover {\n",
              "      background-color: #434B5C;\n",
              "      box-shadow: 0px 1px 3px 1px rgba(0, 0, 0, 0.15);\n",
              "      filter: drop-shadow(0px 1px 2px rgba(0, 0, 0, 0.3));\n",
              "      fill: #FFFFFF;\n",
              "    }\n",
              "  </style>\n",
              "\n",
              "      <script>\n",
              "        const buttonEl =\n",
              "          document.querySelector('#df-4a8932ef-8c5a-4bc4-9109-434d6cc61366 button.colab-df-convert');\n",
              "        buttonEl.style.display =\n",
              "          google.colab.kernel.accessAllowed ? 'block' : 'none';\n",
              "\n",
              "        async function convertToInteractive(key) {\n",
              "          const element = document.querySelector('#df-4a8932ef-8c5a-4bc4-9109-434d6cc61366');\n",
              "          const dataTable =\n",
              "            await google.colab.kernel.invokeFunction('convertToInteractive',\n",
              "                                                     [key], {});\n",
              "          if (!dataTable) return;\n",
              "\n",
              "          const docLinkHtml = 'Like what you see? Visit the ' +\n",
              "            '<a target=\"_blank\" href=https://colab.research.google.com/notebooks/data_table.ipynb>data table notebook</a>'\n",
              "            + ' to learn more about interactive tables.';\n",
              "          element.innerHTML = '';\n",
              "          dataTable['output_type'] = 'display_data';\n",
              "          await google.colab.output.renderOutput(dataTable, element);\n",
              "          const docLink = document.createElement('div');\n",
              "          docLink.innerHTML = docLinkHtml;\n",
              "          element.appendChild(docLink);\n",
              "        }\n",
              "      </script>\n",
              "    </div>\n",
              "  </div>\n",
              "  "
            ]
          },
          "metadata": {},
          "execution_count": 37
        }
      ]
    },
    {
      "cell_type": "markdown",
      "source": [
        "Now we just need to add the ids back to this dataframe"
      ],
      "metadata": {
        "id": "bXjbGBMu1rbj"
      }
    },
    {
      "cell_type": "code",
      "source": [
        "# Concatenating the test IDs and the encoded predictions\n",
        "final_predictions = pd.concat((testIDs,df_encoded),axis=1)"
      ],
      "metadata": {
        "id": "-NoQtcBq1kGg"
      },
      "execution_count": 38,
      "outputs": []
    },
    {
      "cell_type": "code",
      "source": [
        "final_predictions.head()"
      ],
      "metadata": {
        "colab": {
          "base_uri": "https://localhost:8080/",
          "height": 206
        },
        "id": "17rs3Kz01x21",
        "outputId": "e028c919-a65b-4ec2-9cb5-7a15da7a1462"
      },
      "execution_count": 39,
      "outputs": [
        {
          "output_type": "execute_result",
          "data": {
            "text/plain": [
              "   id  Class_1  Class_2  Class_3  Class_4  Class_5  Class_6  Class_7  Class_8  \\\n",
              "0   1        0        0        1        0        0        0        0        0   \n",
              "1   2        0        0        0        0        0        0        1        0   \n",
              "2   3        0        0        0        0        1        0        0        0   \n",
              "3   4        1        0        0        0        0        0        0        0   \n",
              "4   5        0        0        0        0        0        0        0        1   \n",
              "\n",
              "   Class_9  \n",
              "0      0.0  \n",
              "1      0.0  \n",
              "2      0.0  \n",
              "3      0.0  \n",
              "4      0.0  "
            ],
            "text/html": [
              "\n",
              "  <div id=\"df-2d706f82-184c-4f2a-a36c-761a5ee4fcaf\">\n",
              "    <div class=\"colab-df-container\">\n",
              "      <div>\n",
              "<style scoped>\n",
              "    .dataframe tbody tr th:only-of-type {\n",
              "        vertical-align: middle;\n",
              "    }\n",
              "\n",
              "    .dataframe tbody tr th {\n",
              "        vertical-align: top;\n",
              "    }\n",
              "\n",
              "    .dataframe thead th {\n",
              "        text-align: right;\n",
              "    }\n",
              "</style>\n",
              "<table border=\"1\" class=\"dataframe\">\n",
              "  <thead>\n",
              "    <tr style=\"text-align: right;\">\n",
              "      <th></th>\n",
              "      <th>id</th>\n",
              "      <th>Class_1</th>\n",
              "      <th>Class_2</th>\n",
              "      <th>Class_3</th>\n",
              "      <th>Class_4</th>\n",
              "      <th>Class_5</th>\n",
              "      <th>Class_6</th>\n",
              "      <th>Class_7</th>\n",
              "      <th>Class_8</th>\n",
              "      <th>Class_9</th>\n",
              "    </tr>\n",
              "  </thead>\n",
              "  <tbody>\n",
              "    <tr>\n",
              "      <th>0</th>\n",
              "      <td>1</td>\n",
              "      <td>0</td>\n",
              "      <td>0</td>\n",
              "      <td>1</td>\n",
              "      <td>0</td>\n",
              "      <td>0</td>\n",
              "      <td>0</td>\n",
              "      <td>0</td>\n",
              "      <td>0</td>\n",
              "      <td>0.0</td>\n",
              "    </tr>\n",
              "    <tr>\n",
              "      <th>1</th>\n",
              "      <td>2</td>\n",
              "      <td>0</td>\n",
              "      <td>0</td>\n",
              "      <td>0</td>\n",
              "      <td>0</td>\n",
              "      <td>0</td>\n",
              "      <td>0</td>\n",
              "      <td>1</td>\n",
              "      <td>0</td>\n",
              "      <td>0.0</td>\n",
              "    </tr>\n",
              "    <tr>\n",
              "      <th>2</th>\n",
              "      <td>3</td>\n",
              "      <td>0</td>\n",
              "      <td>0</td>\n",
              "      <td>0</td>\n",
              "      <td>0</td>\n",
              "      <td>1</td>\n",
              "      <td>0</td>\n",
              "      <td>0</td>\n",
              "      <td>0</td>\n",
              "      <td>0.0</td>\n",
              "    </tr>\n",
              "    <tr>\n",
              "      <th>3</th>\n",
              "      <td>4</td>\n",
              "      <td>1</td>\n",
              "      <td>0</td>\n",
              "      <td>0</td>\n",
              "      <td>0</td>\n",
              "      <td>0</td>\n",
              "      <td>0</td>\n",
              "      <td>0</td>\n",
              "      <td>0</td>\n",
              "      <td>0.0</td>\n",
              "    </tr>\n",
              "    <tr>\n",
              "      <th>4</th>\n",
              "      <td>5</td>\n",
              "      <td>0</td>\n",
              "      <td>0</td>\n",
              "      <td>0</td>\n",
              "      <td>0</td>\n",
              "      <td>0</td>\n",
              "      <td>0</td>\n",
              "      <td>0</td>\n",
              "      <td>1</td>\n",
              "      <td>0.0</td>\n",
              "    </tr>\n",
              "  </tbody>\n",
              "</table>\n",
              "</div>\n",
              "      <button class=\"colab-df-convert\" onclick=\"convertToInteractive('df-2d706f82-184c-4f2a-a36c-761a5ee4fcaf')\"\n",
              "              title=\"Convert this dataframe to an interactive table.\"\n",
              "              style=\"display:none;\">\n",
              "        \n",
              "  <svg xmlns=\"http://www.w3.org/2000/svg\" height=\"24px\"viewBox=\"0 0 24 24\"\n",
              "       width=\"24px\">\n",
              "    <path d=\"M0 0h24v24H0V0z\" fill=\"none\"/>\n",
              "    <path d=\"M18.56 5.44l.94 2.06.94-2.06 2.06-.94-2.06-.94-.94-2.06-.94 2.06-2.06.94zm-11 1L8.5 8.5l.94-2.06 2.06-.94-2.06-.94L8.5 2.5l-.94 2.06-2.06.94zm10 10l.94 2.06.94-2.06 2.06-.94-2.06-.94-.94-2.06-.94 2.06-2.06.94z\"/><path d=\"M17.41 7.96l-1.37-1.37c-.4-.4-.92-.59-1.43-.59-.52 0-1.04.2-1.43.59L10.3 9.45l-7.72 7.72c-.78.78-.78 2.05 0 2.83L4 21.41c.39.39.9.59 1.41.59.51 0 1.02-.2 1.41-.59l7.78-7.78 2.81-2.81c.8-.78.8-2.07 0-2.86zM5.41 20L4 18.59l7.72-7.72 1.47 1.35L5.41 20z\"/>\n",
              "  </svg>\n",
              "      </button>\n",
              "      \n",
              "  <style>\n",
              "    .colab-df-container {\n",
              "      display:flex;\n",
              "      flex-wrap:wrap;\n",
              "      gap: 12px;\n",
              "    }\n",
              "\n",
              "    .colab-df-convert {\n",
              "      background-color: #E8F0FE;\n",
              "      border: none;\n",
              "      border-radius: 50%;\n",
              "      cursor: pointer;\n",
              "      display: none;\n",
              "      fill: #1967D2;\n",
              "      height: 32px;\n",
              "      padding: 0 0 0 0;\n",
              "      width: 32px;\n",
              "    }\n",
              "\n",
              "    .colab-df-convert:hover {\n",
              "      background-color: #E2EBFA;\n",
              "      box-shadow: 0px 1px 2px rgba(60, 64, 67, 0.3), 0px 1px 3px 1px rgba(60, 64, 67, 0.15);\n",
              "      fill: #174EA6;\n",
              "    }\n",
              "\n",
              "    [theme=dark] .colab-df-convert {\n",
              "      background-color: #3B4455;\n",
              "      fill: #D2E3FC;\n",
              "    }\n",
              "\n",
              "    [theme=dark] .colab-df-convert:hover {\n",
              "      background-color: #434B5C;\n",
              "      box-shadow: 0px 1px 3px 1px rgba(0, 0, 0, 0.15);\n",
              "      filter: drop-shadow(0px 1px 2px rgba(0, 0, 0, 0.3));\n",
              "      fill: #FFFFFF;\n",
              "    }\n",
              "  </style>\n",
              "\n",
              "      <script>\n",
              "        const buttonEl =\n",
              "          document.querySelector('#df-2d706f82-184c-4f2a-a36c-761a5ee4fcaf button.colab-df-convert');\n",
              "        buttonEl.style.display =\n",
              "          google.colab.kernel.accessAllowed ? 'block' : 'none';\n",
              "\n",
              "        async function convertToInteractive(key) {\n",
              "          const element = document.querySelector('#df-2d706f82-184c-4f2a-a36c-761a5ee4fcaf');\n",
              "          const dataTable =\n",
              "            await google.colab.kernel.invokeFunction('convertToInteractive',\n",
              "                                                     [key], {});\n",
              "          if (!dataTable) return;\n",
              "\n",
              "          const docLinkHtml = 'Like what you see? Visit the ' +\n",
              "            '<a target=\"_blank\" href=https://colab.research.google.com/notebooks/data_table.ipynb>data table notebook</a>'\n",
              "            + ' to learn more about interactive tables.';\n",
              "          element.innerHTML = '';\n",
              "          dataTable['output_type'] = 'display_data';\n",
              "          await google.colab.output.renderOutput(dataTable, element);\n",
              "          const docLink = document.createElement('div');\n",
              "          docLink.innerHTML = docLinkHtml;\n",
              "          element.appendChild(docLink);\n",
              "        }\n",
              "      </script>\n",
              "    </div>\n",
              "  </div>\n",
              "  "
            ]
          },
          "metadata": {},
          "execution_count": 39
        }
      ]
    },
    {
      "cell_type": "code",
      "source": [
        "# Exporting the final predictions to a CSV file\n",
        "final_predictions.to_csv('sub.csv',index=False,header=1)"
      ],
      "metadata": {
        "id": "9srJOMTl2Bi5"
      },
      "execution_count": 40,
      "outputs": []
    },
    {
      "cell_type": "markdown",
      "source": [
        "With this approach we got a result of 32.276"
      ],
      "metadata": {
        "id": "Dve6r-7wHjAf"
      }
    },
    {
      "cell_type": "markdown",
      "source": [
        "![Sub 1.PNG](data:image/png;base64,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)"
      ],
      "metadata": {
        "id": "pHFBp-bX9Gsr"
      }
    },
    {
      "cell_type": "markdown",
      "source": [
        "As we mentioned before, our result from this wasn't very good, so we tried a different approach"
      ],
      "metadata": {
        "id": "J8_yBPvw2gKy"
      }
    },
    {
      "cell_type": "markdown",
      "source": [
        "## Approach #2 Random Forest (Best Result = 0.56682)"
      ],
      "metadata": {
        "id": "XM2H2xLcrrSG"
      }
    },
    {
      "cell_type": "markdown",
      "source": [
        "Part of the error we found was that we realized that perhaps having a binary distinction for each class was probably part of the error, and we wanted to have continuous values instead. \n",
        "\n",
        "We also decided to try to use decision trees, and more particularly a random forest classifier, as it is an ensemble method of using decision trees. After some research we felt that this would be a more appropriate way to go about this"
      ],
      "metadata": {
        "id": "gBkUDO5p2nor"
      }
    },
    {
      "cell_type": "markdown",
      "source": [
        "Since we already had a pretty good idea of the data from the previous method, it enabled to work a bit faster on this approach"
      ],
      "metadata": {
        "id": "b8gHtm1r3fi7"
      }
    },
    {
      "cell_type": "markdown",
      "source": [
        "### Setting up the environment"
      ],
      "metadata": {
        "id": "HxG5oI1P3nVT"
      }
    },
    {
      "cell_type": "code",
      "source": [
        "# Importing necessary libraries\n",
        "import numpy as np\n",
        "import pandas as pd\n",
        "from sklearn.ensemble import RandomForestClassifier\n",
        "from sklearn.feature_selection import RFE\n",
        "from sklearn.model_selection import GridSearchCV\n",
        "from sklearn.preprocessing import LabelEncoder"
      ],
      "metadata": {
        "id": "l7P9IsAy3p6v"
      },
      "execution_count": 41,
      "outputs": []
    },
    {
      "cell_type": "markdown",
      "source": [
        "## Loading and Preparing the Data"
      ],
      "metadata": {
        "id": "1dV_67fH33li"
      }
    },
    {
      "cell_type": "markdown",
      "source": [
        "On this approach, we decided to map the classes to numbers on our own, as we felt that might have been part of the issue previously when we had all NaN values for class 9"
      ],
      "metadata": {
        "id": "xYPuYPz73-hC"
      }
    },
    {
      "cell_type": "code",
      "source": [
        "# Load training and test data\n",
        "train_data = pd.read_csv(\"train.csv\")\n",
        "test_data = pd.read_csv(\"test.csv\")\n",
        "\n",
        "# Get target and id columns from training data and convert target values to numeric\n",
        "train_target = train_data[[\"target\",\"id\"]]\n",
        "train_data = train_data.drop([\"target\", \"id\"], axis=1)\n",
        "\n",
        "# This line creates a dictionary that maps each target class to a numeric value\n",
        "class_names = {\"Class_1\": 1, \"Class_2\": 2, \"Class_3\": 3, \"Class_4\": 4, \"Class_5\": 5, \"Class_6\": 6, \"Class_7\": 7, \"Class_8\": 8, \"Class_9\": 9}\n",
        "\n",
        "# Here we map the target labels to numeric values for classification, using a dictionary and the apply method on the \"target\" column of the train_target df.\n",
        "# The numeric values are stored in the \"train_target_numeric\" variable.\n",
        "train_target_numeric = train_target[\"target\"].apply(lambda x: class_names[x])"
      ],
      "metadata": {
        "id": "8EWhWmikWgE_"
      },
      "execution_count": 42,
      "outputs": []
    },
    {
      "cell_type": "markdown",
      "source": [
        "## GridSearch"
      ],
      "metadata": {
        "id": "vO35cUfx4Z5z"
      }
    },
    {
      "cell_type": "markdown",
      "source": [
        "We found an approach through some research to help us create a successful classifier. In the sklearn modules there is a class you can use called Recursive Feature Elimination. This class is a feature selection method that selects features by recursively considering smaller and smaller sets of features. It starts by training a model on the full set of features and then ranking the importance of each feature based on a specified metric, like accuracy or something else."
      ],
      "metadata": {
        "id": "bk_zyw1D4ecP"
      }
    },
    {
      "cell_type": "markdown",
      "source": [
        "We decided to use this method for our process, however there is a hyperparameter called n_features_to_select and we did not know what number to choose for this, so we ran a GridSearch on it. It took well over an hour, and we have to keep the param grid small to test it properly. Below is where we did this"
      ],
      "metadata": {
        "id": "vqE47zTp5SYb"
      }
    },
    {
      "cell_type": "markdown",
      "source": [
        "We also tested the n_estimators for the Random Forest Classifier in this Grid Search"
      ],
      "metadata": {
        "id": "lcggUXfl5p5H"
      }
    },
    {
      "cell_type": "markdown",
      "source": [
        "We commented it out as we found the appropriate parameters and did not want to run the Grid Search again."
      ],
      "metadata": {
        "id": "f_a_Repx5x_Z"
      }
    },
    {
      "cell_type": "code",
      "source": [
        "# Create a random forest classifier\n",
        "#clf = RandomForestClassifier(n_jobs=-1)\n",
        "\n",
        "# Set up the parameter grid to search for best params \n",
        "# param_grid = {\n",
        "#     \"estimator__n_estimators\": [50, 250],\n",
        "#     \"n_features_to_select\": [50, 80]\n",
        "# }\n",
        "\n",
        "# # Create a recursive feature elimination (RFE) object that will select the top features\n",
        "# # based on the feature importances returned by the random forest classifier\n",
        "# rfe = RFE(estimator=clf)\n",
        "\n",
        "# # Create a grid search object that will search over the parameter grid\n",
        "# grid_search = GridSearchCV(rfe, param_grid=param_grid, cv=5, n_jobs=-1)\n",
        "\n",
        "# # Fit the grid search object to the training set to find the best values for the parameters\n",
        "# grid_search.fit(train_data, train_target_numeric)\n",
        "\n",
        "# # Print the best parameters found during the grid search\n",
        "# print(\"Best parameters: \", grid_search.best_params_)\n",
        "\n",
        "# Found best params to be n_estimators = 250, n_features_to_select = 80\n"
      ],
      "metadata": {
        "id": "TpsAkbyLznWT"
      },
      "execution_count": 43,
      "outputs": []
    },
    {
      "cell_type": "markdown",
      "source": [
        "## Creating and Fitting the Random Forest Classifier"
      ],
      "metadata": {
        "id": "6xS77nwD5-t1"
      }
    },
    {
      "cell_type": "markdown",
      "source": [
        "Based on the information from the grid search, we create the classifier and the recursive feature elimination object and fit it with the training data"
      ],
      "metadata": {
        "id": "mE9srWjU6S-x"
      }
    },
    {
      "cell_type": "code",
      "source": [
        "# Extract the best values of the parameters from the grid search object\n",
        "best_n_estimators = 250\n",
        "best_n_features = 80\n",
        "\n",
        "# Create a new random forest classifier with the optimal number of trees\n",
        "clf = RandomForestClassifier(n_estimators=best_n_estimators, n_jobs=-1)\n",
        "\n",
        "# Create a recursive feature elimination (RFE) object that will select the top features\n",
        "# based on the feature importances returned by the random forest classifier\n",
        "rfe = RFE(estimator=clf, n_features_to_select=best_n_features)\n",
        "\n",
        "# Fit the RFE object to the training set to select the top features\n",
        "fit = rfe.fit(train_data, train_target_numeric)\n"
      ],
      "metadata": {
        "id": "_BaLYrrAwro9"
      },
      "execution_count": 45,
      "outputs": []
    },
    {
      "cell_type": "markdown",
      "source": [
        "## Final Predictions and setting up the final dataframe for submission"
      ],
      "metadata": {
        "id": "Wgu8Fuov6HUB"
      }
    },
    {
      "cell_type": "markdown",
      "source": [
        "Below we remove the test Id again as we did in the XGBoost method and keep them for later so we can run the prediction on the test data"
      ],
      "metadata": {
        "id": "T-Hn9gpR6h_q"
      }
    },
    {
      "cell_type": "code",
      "source": [
        "# Save the ids from the test data to a separate variable\n",
        "test_ids = test_data[\"id\"]\n",
        "test_ids = pd.DataFrame(test_ids, columns=[\"id\"])\n",
        "\n",
        "# Drop the \"id\" column from the test data\n",
        "test_data = test_data.drop(\"id\", axis=1)"
      ],
      "metadata": {
        "id": "aQvIj8s06P5V"
      },
      "execution_count": 46,
      "outputs": []
    },
    {
      "cell_type": "markdown",
      "source": [
        "Here we get our prediction probabilities for our test data and put it into a dataframe called test_probabilities"
      ],
      "metadata": {
        "id": "qtjjPXrGE9eg"
      }
    },
    {
      "cell_type": "code",
      "source": [
        "# Use the fitted RFE object to predict the class probabilities for the testing set for each of the 9 classes\n",
        "test_probabilities = fit.predict_proba(test_data)"
      ],
      "metadata": {
        "id": "PkF0opspvkTW"
      },
      "execution_count": 47,
      "outputs": []
    },
    {
      "cell_type": "markdown",
      "source": [
        "And now we take the probabilities and put them in a dataframe with the Class names as columns"
      ],
      "metadata": {
        "id": "35XCHOc7FJuD"
      }
    },
    {
      "cell_type": "code",
      "source": [
        "test_probabilities_df = pd.DataFrame(test_probabilities, columns=[\"Class_1\", \"Class_2\", \"Class_3\", \"Class_4\", \"Class_5\", \"Class_6\", \"Class_7\", \"Class_8\", \"Class_9\"])"
      ],
      "metadata": {
        "id": "9IZy8bwtFHBZ"
      },
      "execution_count": 48,
      "outputs": []
    },
    {
      "cell_type": "code",
      "source": [
        "test_probabilities_df.head()"
      ],
      "metadata": {
        "colab": {
          "base_uri": "https://localhost:8080/",
          "height": 206
        },
        "id": "bQTMOOVv7S4t",
        "outputId": "53b6ce12-578d-417e-e47e-760d90782fa9"
      },
      "execution_count": 49,
      "outputs": [
        {
          "output_type": "execute_result",
          "data": {
            "text/plain": [
              "   Class_1  Class_2  Class_3  Class_4  Class_5  Class_6  Class_7  Class_8  \\\n",
              "0    0.024    0.208    0.240    0.444    0.004    0.024    0.036    0.012   \n",
              "1    0.020    0.040    0.032    0.008    0.008    0.556    0.028    0.300   \n",
              "2    0.000    0.004    0.000    0.000    0.000    0.988    0.000    0.008   \n",
              "3    0.004    0.572    0.300    0.056    0.000    0.008    0.012    0.004   \n",
              "4    0.108    0.008    0.000    0.000    0.004    0.028    0.032    0.256   \n",
              "\n",
              "   Class_9  \n",
              "0    0.008  \n",
              "1    0.008  \n",
              "2    0.000  \n",
              "3    0.044  \n",
              "4    0.564  "
            ],
            "text/html": [
              "\n",
              "  <div id=\"df-4560b438-5da1-4395-a8e7-5ae7887637fd\">\n",
              "    <div class=\"colab-df-container\">\n",
              "      <div>\n",
              "<style scoped>\n",
              "    .dataframe tbody tr th:only-of-type {\n",
              "        vertical-align: middle;\n",
              "    }\n",
              "\n",
              "    .dataframe tbody tr th {\n",
              "        vertical-align: top;\n",
              "    }\n",
              "\n",
              "    .dataframe thead th {\n",
              "        text-align: right;\n",
              "    }\n",
              "</style>\n",
              "<table border=\"1\" class=\"dataframe\">\n",
              "  <thead>\n",
              "    <tr style=\"text-align: right;\">\n",
              "      <th></th>\n",
              "      <th>Class_1</th>\n",
              "      <th>Class_2</th>\n",
              "      <th>Class_3</th>\n",
              "      <th>Class_4</th>\n",
              "      <th>Class_5</th>\n",
              "      <th>Class_6</th>\n",
              "      <th>Class_7</th>\n",
              "      <th>Class_8</th>\n",
              "      <th>Class_9</th>\n",
              "    </tr>\n",
              "  </thead>\n",
              "  <tbody>\n",
              "    <tr>\n",
              "      <th>0</th>\n",
              "      <td>0.024</td>\n",
              "      <td>0.208</td>\n",
              "      <td>0.240</td>\n",
              "      <td>0.444</td>\n",
              "      <td>0.004</td>\n",
              "      <td>0.024</td>\n",
              "      <td>0.036</td>\n",
              "      <td>0.012</td>\n",
              "      <td>0.008</td>\n",
              "    </tr>\n",
              "    <tr>\n",
              "      <th>1</th>\n",
              "      <td>0.020</td>\n",
              "      <td>0.040</td>\n",
              "      <td>0.032</td>\n",
              "      <td>0.008</td>\n",
              "      <td>0.008</td>\n",
              "      <td>0.556</td>\n",
              "      <td>0.028</td>\n",
              "      <td>0.300</td>\n",
              "      <td>0.008</td>\n",
              "    </tr>\n",
              "    <tr>\n",
              "      <th>2</th>\n",
              "      <td>0.000</td>\n",
              "      <td>0.004</td>\n",
              "      <td>0.000</td>\n",
              "      <td>0.000</td>\n",
              "      <td>0.000</td>\n",
              "      <td>0.988</td>\n",
              "      <td>0.000</td>\n",
              "      <td>0.008</td>\n",
              "      <td>0.000</td>\n",
              "    </tr>\n",
              "    <tr>\n",
              "      <th>3</th>\n",
              "      <td>0.004</td>\n",
              "      <td>0.572</td>\n",
              "      <td>0.300</td>\n",
              "      <td>0.056</td>\n",
              "      <td>0.000</td>\n",
              "      <td>0.008</td>\n",
              "      <td>0.012</td>\n",
              "      <td>0.004</td>\n",
              "      <td>0.044</td>\n",
              "    </tr>\n",
              "    <tr>\n",
              "      <th>4</th>\n",
              "      <td>0.108</td>\n",
              "      <td>0.008</td>\n",
              "      <td>0.000</td>\n",
              "      <td>0.000</td>\n",
              "      <td>0.004</td>\n",
              "      <td>0.028</td>\n",
              "      <td>0.032</td>\n",
              "      <td>0.256</td>\n",
              "      <td>0.564</td>\n",
              "    </tr>\n",
              "  </tbody>\n",
              "</table>\n",
              "</div>\n",
              "      <button class=\"colab-df-convert\" onclick=\"convertToInteractive('df-4560b438-5da1-4395-a8e7-5ae7887637fd')\"\n",
              "              title=\"Convert this dataframe to an interactive table.\"\n",
              "              style=\"display:none;\">\n",
              "        \n",
              "  <svg xmlns=\"http://www.w3.org/2000/svg\" height=\"24px\"viewBox=\"0 0 24 24\"\n",
              "       width=\"24px\">\n",
              "    <path d=\"M0 0h24v24H0V0z\" fill=\"none\"/>\n",
              "    <path d=\"M18.56 5.44l.94 2.06.94-2.06 2.06-.94-2.06-.94-.94-2.06-.94 2.06-2.06.94zm-11 1L8.5 8.5l.94-2.06 2.06-.94-2.06-.94L8.5 2.5l-.94 2.06-2.06.94zm10 10l.94 2.06.94-2.06 2.06-.94-2.06-.94-.94-2.06-.94 2.06-2.06.94z\"/><path d=\"M17.41 7.96l-1.37-1.37c-.4-.4-.92-.59-1.43-.59-.52 0-1.04.2-1.43.59L10.3 9.45l-7.72 7.72c-.78.78-.78 2.05 0 2.83L4 21.41c.39.39.9.59 1.41.59.51 0 1.02-.2 1.41-.59l7.78-7.78 2.81-2.81c.8-.78.8-2.07 0-2.86zM5.41 20L4 18.59l7.72-7.72 1.47 1.35L5.41 20z\"/>\n",
              "  </svg>\n",
              "      </button>\n",
              "      \n",
              "  <style>\n",
              "    .colab-df-container {\n",
              "      display:flex;\n",
              "      flex-wrap:wrap;\n",
              "      gap: 12px;\n",
              "    }\n",
              "\n",
              "    .colab-df-convert {\n",
              "      background-color: #E8F0FE;\n",
              "      border: none;\n",
              "      border-radius: 50%;\n",
              "      cursor: pointer;\n",
              "      display: none;\n",
              "      fill: #1967D2;\n",
              "      height: 32px;\n",
              "      padding: 0 0 0 0;\n",
              "      width: 32px;\n",
              "    }\n",
              "\n",
              "    .colab-df-convert:hover {\n",
              "      background-color: #E2EBFA;\n",
              "      box-shadow: 0px 1px 2px rgba(60, 64, 67, 0.3), 0px 1px 3px 1px rgba(60, 64, 67, 0.15);\n",
              "      fill: #174EA6;\n",
              "    }\n",
              "\n",
              "    [theme=dark] .colab-df-convert {\n",
              "      background-color: #3B4455;\n",
              "      fill: #D2E3FC;\n",
              "    }\n",
              "\n",
              "    [theme=dark] .colab-df-convert:hover {\n",
              "      background-color: #434B5C;\n",
              "      box-shadow: 0px 1px 3px 1px rgba(0, 0, 0, 0.15);\n",
              "      filter: drop-shadow(0px 1px 2px rgba(0, 0, 0, 0.3));\n",
              "      fill: #FFFFFF;\n",
              "    }\n",
              "  </style>\n",
              "\n",
              "      <script>\n",
              "        const buttonEl =\n",
              "          document.querySelector('#df-4560b438-5da1-4395-a8e7-5ae7887637fd button.colab-df-convert');\n",
              "        buttonEl.style.display =\n",
              "          google.colab.kernel.accessAllowed ? 'block' : 'none';\n",
              "\n",
              "        async function convertToInteractive(key) {\n",
              "          const element = document.querySelector('#df-4560b438-5da1-4395-a8e7-5ae7887637fd');\n",
              "          const dataTable =\n",
              "            await google.colab.kernel.invokeFunction('convertToInteractive',\n",
              "                                                     [key], {});\n",
              "          if (!dataTable) return;\n",
              "\n",
              "          const docLinkHtml = 'Like what you see? Visit the ' +\n",
              "            '<a target=\"_blank\" href=https://colab.research.google.com/notebooks/data_table.ipynb>data table notebook</a>'\n",
              "            + ' to learn more about interactive tables.';\n",
              "          element.innerHTML = '';\n",
              "          dataTable['output_type'] = 'display_data';\n",
              "          await google.colab.output.renderOutput(dataTable, element);\n",
              "          const docLink = document.createElement('div');\n",
              "          docLink.innerHTML = docLinkHtml;\n",
              "          element.appendChild(docLink);\n",
              "        }\n",
              "      </script>\n",
              "    </div>\n",
              "  </div>\n",
              "  "
            ]
          },
          "metadata": {},
          "execution_count": 49
        }
      ]
    },
    {
      "cell_type": "markdown",
      "source": [
        "## Creating our Submission File"
      ],
      "metadata": {
        "id": "e5lH22V3GtSu"
      }
    },
    {
      "cell_type": "markdown",
      "source": [
        "Finally we concatenate the testIds to our dataframe and send it to a CSV file for submission"
      ],
      "metadata": {
        "id": "vU2BuC15GFoI"
      }
    },
    {
      "cell_type": "code",
      "source": [
        "# Combine the predicted class probabilities with the ids for the testing set\n",
        "submission_df = pd.concat([test_ids, test_probabilities_df], axis=1)\n",
        "\n",
        "# Save the results to a CSV file\n",
        "submission_df.to_csv(\"final_submission.csv\", sep=\",\", index=None)"
      ],
      "metadata": {
        "id": "4fOs5GkA6Ghl"
      },
      "execution_count": 50,
      "outputs": []
    },
    {
      "cell_type": "markdown",
      "source": [
        "With this, we were able to achieve a score of 0.567"
      ],
      "metadata": {
        "id": "LKwi77qxGg9V"
      }
    },
    {
      "cell_type": "markdown",
      "source": [
        "![final_sub.PNG](data:image/png;base64,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)"
      ],
      "metadata": {
        "id": "Xn5q0Xy9Cq7f"
      }
    },
    {
      "cell_type": "markdown",
      "source": [
        "As you can see, our score was astronomically better with this approach, and we think it had alot to do with having probabilities instead of binary values in our final predictions dataframe. Overall, we learned alot and were very happy with the score we were able to achieve."
      ],
      "metadata": {
        "id": "ubjGFqxrGOck"
      }
    }
  ]
}